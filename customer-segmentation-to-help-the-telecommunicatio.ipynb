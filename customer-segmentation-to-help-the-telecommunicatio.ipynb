{
 "cells": [
  {
   "cell_type": "code",
   "execution_count": 1,
   "id": "9ccf10da",
   "metadata": {
    "execution": {
     "iopub.execute_input": "2023-11-11T18:36:49.626106Z",
     "iopub.status.busy": "2023-11-11T18:36:49.625776Z",
     "iopub.status.idle": "2023-11-11T18:36:51.797067Z",
     "shell.execute_reply": "2023-11-11T18:36:51.796225Z"
    },
    "papermill": {
     "duration": 2.186356,
     "end_time": "2023-11-11T18:36:51.799379",
     "exception": false,
     "start_time": "2023-11-11T18:36:49.613023",
     "status": "completed"
    },
    "tags": []
   },
   "outputs": [],
   "source": [
    "# Importing required packages\n",
    "import numpy as np\n",
    "import pandas as pd \n",
    "import random\n",
    "from kmodes.kprototypes import KPrototypes\n",
    "import matplotlib.pyplot as plt\n",
    "from matplotlib import style\n",
    "import seaborn as sns\n",
    "import warnings\n",
    "warnings.filterwarnings(\"ignore\")"
   ]
  },
  {
   "cell_type": "markdown",
   "id": "46d7673d",
   "metadata": {
    "papermill": {
     "duration": 0.010611,
     "end_time": "2023-11-11T18:36:51.821319",
     "exception": false,
     "start_time": "2023-11-11T18:36:51.810708",
     "status": "completed"
    },
    "tags": []
   },
   "source": [
    "# Information Dataset"
   ]
  },
  {
   "cell_type": "code",
   "execution_count": 2,
   "id": "abc9a87f",
   "metadata": {
    "execution": {
     "iopub.execute_input": "2023-11-11T18:36:51.844578Z",
     "iopub.status.busy": "2023-11-11T18:36:51.844141Z",
     "iopub.status.idle": "2023-11-11T18:36:51.919973Z",
     "shell.execute_reply": "2023-11-11T18:36:51.919034Z"
    },
    "papermill": {
     "duration": 0.089779,
     "end_time": "2023-11-11T18:36:51.921950",
     "exception": false,
     "start_time": "2023-11-11T18:36:51.832171",
     "status": "completed"
    },
    "tags": []
   },
   "outputs": [
    {
     "data": {
      "text/html": [
       "<div>\n",
       "<style scoped>\n",
       "    .dataframe tbody tr th:only-of-type {\n",
       "        vertical-align: middle;\n",
       "    }\n",
       "\n",
       "    .dataframe tbody tr th {\n",
       "        vertical-align: top;\n",
       "    }\n",
       "\n",
       "    .dataframe thead th {\n",
       "        text-align: right;\n",
       "    }\n",
       "</style>\n",
       "<table border=\"1\" class=\"dataframe\">\n",
       "  <thead>\n",
       "    <tr style=\"text-align: right;\">\n",
       "      <th></th>\n",
       "      <th>Customer ID</th>\n",
       "      <th>Tenure Months</th>\n",
       "      <th>Location</th>\n",
       "      <th>Device Class</th>\n",
       "      <th>Games Product</th>\n",
       "      <th>Music Product</th>\n",
       "      <th>Education Product</th>\n",
       "      <th>Call Center</th>\n",
       "      <th>Video Product</th>\n",
       "      <th>Use MyApp</th>\n",
       "      <th>Payment Method</th>\n",
       "      <th>Monthly Purchase (Thou. IDR)</th>\n",
       "      <th>Churn Label</th>\n",
       "      <th>Longitude</th>\n",
       "      <th>Latitude</th>\n",
       "      <th>CLTV (Predicted Thou. IDR)</th>\n",
       "    </tr>\n",
       "  </thead>\n",
       "  <tbody>\n",
       "    <tr>\n",
       "      <th>0</th>\n",
       "      <td>0</td>\n",
       "      <td>2</td>\n",
       "      <td>Jakarta</td>\n",
       "      <td>Mid End</td>\n",
       "      <td>Yes</td>\n",
       "      <td>Yes</td>\n",
       "      <td>No</td>\n",
       "      <td>No</td>\n",
       "      <td>No</td>\n",
       "      <td>No</td>\n",
       "      <td>Digital Wallet</td>\n",
       "      <td>70.005</td>\n",
       "      <td>Yes</td>\n",
       "      <td>106.81667</td>\n",
       "      <td>-6.2</td>\n",
       "      <td>4210.7</td>\n",
       "    </tr>\n",
       "    <tr>\n",
       "      <th>1</th>\n",
       "      <td>1</td>\n",
       "      <td>2</td>\n",
       "      <td>Jakarta</td>\n",
       "      <td>High End</td>\n",
       "      <td>No</td>\n",
       "      <td>No</td>\n",
       "      <td>No</td>\n",
       "      <td>No</td>\n",
       "      <td>No</td>\n",
       "      <td>No</td>\n",
       "      <td>Pulsa</td>\n",
       "      <td>91.910</td>\n",
       "      <td>Yes</td>\n",
       "      <td>106.81667</td>\n",
       "      <td>-6.2</td>\n",
       "      <td>3511.3</td>\n",
       "    </tr>\n",
       "    <tr>\n",
       "      <th>2</th>\n",
       "      <td>2</td>\n",
       "      <td>8</td>\n",
       "      <td>Jakarta</td>\n",
       "      <td>High End</td>\n",
       "      <td>No</td>\n",
       "      <td>No</td>\n",
       "      <td>Yes</td>\n",
       "      <td>No</td>\n",
       "      <td>Yes</td>\n",
       "      <td>Yes</td>\n",
       "      <td>Pulsa</td>\n",
       "      <td>129.545</td>\n",
       "      <td>Yes</td>\n",
       "      <td>106.81667</td>\n",
       "      <td>-6.2</td>\n",
       "      <td>6983.6</td>\n",
       "    </tr>\n",
       "    <tr>\n",
       "      <th>3</th>\n",
       "      <td>3</td>\n",
       "      <td>28</td>\n",
       "      <td>Jakarta</td>\n",
       "      <td>High End</td>\n",
       "      <td>No</td>\n",
       "      <td>No</td>\n",
       "      <td>Yes</td>\n",
       "      <td>Yes</td>\n",
       "      <td>Yes</td>\n",
       "      <td>Yes</td>\n",
       "      <td>Pulsa</td>\n",
       "      <td>136.240</td>\n",
       "      <td>Yes</td>\n",
       "      <td>106.81667</td>\n",
       "      <td>-6.2</td>\n",
       "      <td>6503.9</td>\n",
       "    </tr>\n",
       "    <tr>\n",
       "      <th>4</th>\n",
       "      <td>4</td>\n",
       "      <td>49</td>\n",
       "      <td>Jakarta</td>\n",
       "      <td>High End</td>\n",
       "      <td>No</td>\n",
       "      <td>Yes</td>\n",
       "      <td>Yes</td>\n",
       "      <td>No</td>\n",
       "      <td>Yes</td>\n",
       "      <td>Yes</td>\n",
       "      <td>Debit</td>\n",
       "      <td>134.810</td>\n",
       "      <td>Yes</td>\n",
       "      <td>106.81667</td>\n",
       "      <td>-6.2</td>\n",
       "      <td>6942.0</td>\n",
       "    </tr>\n",
       "    <tr>\n",
       "      <th>...</th>\n",
       "      <td>...</td>\n",
       "      <td>...</td>\n",
       "      <td>...</td>\n",
       "      <td>...</td>\n",
       "      <td>...</td>\n",
       "      <td>...</td>\n",
       "      <td>...</td>\n",
       "      <td>...</td>\n",
       "      <td>...</td>\n",
       "      <td>...</td>\n",
       "      <td>...</td>\n",
       "      <td>...</td>\n",
       "      <td>...</td>\n",
       "      <td>...</td>\n",
       "      <td>...</td>\n",
       "      <td>...</td>\n",
       "    </tr>\n",
       "    <tr>\n",
       "      <th>7038</th>\n",
       "      <td>7038</td>\n",
       "      <td>72</td>\n",
       "      <td>Jakarta</td>\n",
       "      <td>Low End</td>\n",
       "      <td>No internet service</td>\n",
       "      <td>No internet service</td>\n",
       "      <td>No internet service</td>\n",
       "      <td>No</td>\n",
       "      <td>No internet service</td>\n",
       "      <td>No internet service</td>\n",
       "      <td>Debit</td>\n",
       "      <td>27.495</td>\n",
       "      <td>No</td>\n",
       "      <td>106.81667</td>\n",
       "      <td>-6.2</td>\n",
       "      <td>6897.8</td>\n",
       "    </tr>\n",
       "    <tr>\n",
       "      <th>7039</th>\n",
       "      <td>7039</td>\n",
       "      <td>24</td>\n",
       "      <td>Jakarta</td>\n",
       "      <td>Mid End</td>\n",
       "      <td>Yes</td>\n",
       "      <td>No</td>\n",
       "      <td>Yes</td>\n",
       "      <td>Yes</td>\n",
       "      <td>Yes</td>\n",
       "      <td>Yes</td>\n",
       "      <td>Digital Wallet</td>\n",
       "      <td>110.240</td>\n",
       "      <td>No</td>\n",
       "      <td>106.81667</td>\n",
       "      <td>-6.2</td>\n",
       "      <td>2782.0</td>\n",
       "    </tr>\n",
       "    <tr>\n",
       "      <th>7040</th>\n",
       "      <td>7040</td>\n",
       "      <td>72</td>\n",
       "      <td>Jakarta</td>\n",
       "      <td>High End</td>\n",
       "      <td>No</td>\n",
       "      <td>Yes</td>\n",
       "      <td>Yes</td>\n",
       "      <td>No</td>\n",
       "      <td>Yes</td>\n",
       "      <td>Yes</td>\n",
       "      <td>Credit</td>\n",
       "      <td>134.160</td>\n",
       "      <td>No</td>\n",
       "      <td>106.81667</td>\n",
       "      <td>-6.2</td>\n",
       "      <td>7228.0</td>\n",
       "    </tr>\n",
       "    <tr>\n",
       "      <th>7041</th>\n",
       "      <td>7041</td>\n",
       "      <td>11</td>\n",
       "      <td>Jakarta</td>\n",
       "      <td>Mid End</td>\n",
       "      <td>Yes</td>\n",
       "      <td>No</td>\n",
       "      <td>No</td>\n",
       "      <td>No</td>\n",
       "      <td>No</td>\n",
       "      <td>No</td>\n",
       "      <td>Pulsa</td>\n",
       "      <td>38.480</td>\n",
       "      <td>No</td>\n",
       "      <td>106.81667</td>\n",
       "      <td>-6.2</td>\n",
       "      <td>3630.9</td>\n",
       "    </tr>\n",
       "    <tr>\n",
       "      <th>7042</th>\n",
       "      <td>7042</td>\n",
       "      <td>66</td>\n",
       "      <td>Jakarta</td>\n",
       "      <td>High End</td>\n",
       "      <td>Yes</td>\n",
       "      <td>No</td>\n",
       "      <td>Yes</td>\n",
       "      <td>Yes</td>\n",
       "      <td>Yes</td>\n",
       "      <td>Yes</td>\n",
       "      <td>Debit</td>\n",
       "      <td>137.345</td>\n",
       "      <td>No</td>\n",
       "      <td>106.81667</td>\n",
       "      <td>-6.2</td>\n",
       "      <td>6626.1</td>\n",
       "    </tr>\n",
       "  </tbody>\n",
       "</table>\n",
       "<p>7043 rows × 16 columns</p>\n",
       "</div>"
      ],
      "text/plain": [
       "      Customer ID  Tenure Months Location Device Class        Games Product  \\\n",
       "0               0              2  Jakarta      Mid End                  Yes   \n",
       "1               1              2  Jakarta     High End                   No   \n",
       "2               2              8  Jakarta     High End                   No   \n",
       "3               3             28  Jakarta     High End                   No   \n",
       "4               4             49  Jakarta     High End                   No   \n",
       "...           ...            ...      ...          ...                  ...   \n",
       "7038         7038             72  Jakarta      Low End  No internet service   \n",
       "7039         7039             24  Jakarta      Mid End                  Yes   \n",
       "7040         7040             72  Jakarta     High End                   No   \n",
       "7041         7041             11  Jakarta      Mid End                  Yes   \n",
       "7042         7042             66  Jakarta     High End                  Yes   \n",
       "\n",
       "            Music Product    Education Product Call Center  \\\n",
       "0                     Yes                   No          No   \n",
       "1                      No                   No          No   \n",
       "2                      No                  Yes          No   \n",
       "3                      No                  Yes         Yes   \n",
       "4                     Yes                  Yes          No   \n",
       "...                   ...                  ...         ...   \n",
       "7038  No internet service  No internet service          No   \n",
       "7039                   No                  Yes         Yes   \n",
       "7040                  Yes                  Yes          No   \n",
       "7041                   No                   No          No   \n",
       "7042                   No                  Yes         Yes   \n",
       "\n",
       "            Video Product            Use MyApp  Payment Method  \\\n",
       "0                      No                   No  Digital Wallet   \n",
       "1                      No                   No           Pulsa   \n",
       "2                     Yes                  Yes           Pulsa   \n",
       "3                     Yes                  Yes           Pulsa   \n",
       "4                     Yes                  Yes           Debit   \n",
       "...                   ...                  ...             ...   \n",
       "7038  No internet service  No internet service           Debit   \n",
       "7039                  Yes                  Yes  Digital Wallet   \n",
       "7040                  Yes                  Yes          Credit   \n",
       "7041                   No                   No           Pulsa   \n",
       "7042                  Yes                  Yes           Debit   \n",
       "\n",
       "      Monthly Purchase (Thou. IDR) Churn Label  Longitude  Latitude  \\\n",
       "0                           70.005         Yes  106.81667      -6.2   \n",
       "1                           91.910         Yes  106.81667      -6.2   \n",
       "2                          129.545         Yes  106.81667      -6.2   \n",
       "3                          136.240         Yes  106.81667      -6.2   \n",
       "4                          134.810         Yes  106.81667      -6.2   \n",
       "...                            ...         ...        ...       ...   \n",
       "7038                        27.495          No  106.81667      -6.2   \n",
       "7039                       110.240          No  106.81667      -6.2   \n",
       "7040                       134.160          No  106.81667      -6.2   \n",
       "7041                        38.480          No  106.81667      -6.2   \n",
       "7042                       137.345          No  106.81667      -6.2   \n",
       "\n",
       "      CLTV (Predicted Thou. IDR)  \n",
       "0                         4210.7  \n",
       "1                         3511.3  \n",
       "2                         6983.6  \n",
       "3                         6503.9  \n",
       "4                         6942.0  \n",
       "...                          ...  \n",
       "7038                      6897.8  \n",
       "7039                      2782.0  \n",
       "7040                      7228.0  \n",
       "7041                      3630.9  \n",
       "7042                      6626.1  \n",
       "\n",
       "[7043 rows x 16 columns]"
      ]
     },
     "execution_count": 2,
     "metadata": {},
     "output_type": "execute_result"
    }
   ],
   "source": [
    "data = pd.read_csv('/kaggle/input/data-lombaa/lomba.csv')\n",
    "data"
   ]
  },
  {
   "cell_type": "code",
   "execution_count": 3,
   "id": "db2162e9",
   "metadata": {
    "execution": {
     "iopub.execute_input": "2023-11-11T18:36:51.946062Z",
     "iopub.status.busy": "2023-11-11T18:36:51.945682Z",
     "iopub.status.idle": "2023-11-11T18:36:51.954953Z",
     "shell.execute_reply": "2023-11-11T18:36:51.954023Z"
    },
    "papermill": {
     "duration": 0.023727,
     "end_time": "2023-11-11T18:36:51.956979",
     "exception": false,
     "start_time": "2023-11-11T18:36:51.933252",
     "status": "completed"
    },
    "tags": []
   },
   "outputs": [],
   "source": [
    "forcluster = ['Tenure Months','Device Class','Monthly Purchase (Thou. IDR)','Churn Label']\n",
    "datacluster = data[forcluster]"
   ]
  },
  {
   "cell_type": "code",
   "execution_count": 4,
   "id": "413a3714",
   "metadata": {
    "execution": {
     "iopub.execute_input": "2023-11-11T18:36:51.981908Z",
     "iopub.status.busy": "2023-11-11T18:36:51.981603Z",
     "iopub.status.idle": "2023-11-11T18:36:51.993319Z",
     "shell.execute_reply": "2023-11-11T18:36:51.992174Z"
    },
    "papermill": {
     "duration": 0.027301,
     "end_time": "2023-11-11T18:36:51.995630",
     "exception": false,
     "start_time": "2023-11-11T18:36:51.968329",
     "status": "completed"
    },
    "tags": []
   },
   "outputs": [],
   "source": [
    "batas = [-1,12,48,73]\n",
    "labelka =['New User (0-12 Months)','Intermediate User (13-48 Months)','Old User (49-72 Months)']\n",
    "datacluster['Months'] = pd.cut(datacluster['Tenure Months'],bins=batas,labels=labelka)\n",
    "data['Months']=  pd.cut(data['Tenure Months'],bins=batas,labels=labelka)"
   ]
  },
  {
   "cell_type": "code",
   "execution_count": 5,
   "id": "b312076a",
   "metadata": {
    "execution": {
     "iopub.execute_input": "2023-11-11T18:36:52.019839Z",
     "iopub.status.busy": "2023-11-11T18:36:52.019524Z",
     "iopub.status.idle": "2023-11-11T18:36:52.027857Z",
     "shell.execute_reply": "2023-11-11T18:36:52.027213Z"
    },
    "papermill": {
     "duration": 0.022536,
     "end_time": "2023-11-11T18:36:52.029554",
     "exception": false,
     "start_time": "2023-11-11T18:36:52.007018",
     "status": "completed"
    },
    "tags": []
   },
   "outputs": [
    {
     "data": {
      "text/plain": [
       "Months\n",
       "Intermediate User (13-48 Months)    2618\n",
       "Old User (49-72 Months)             2239\n",
       "New User (0-12 Months)              2186\n",
       "Name: count, dtype: int64"
      ]
     },
     "execution_count": 5,
     "metadata": {},
     "output_type": "execute_result"
    }
   ],
   "source": [
    "datacluster['Months'].value_counts()"
   ]
  },
  {
   "cell_type": "code",
   "execution_count": 6,
   "id": "9f2aae24",
   "metadata": {
    "execution": {
     "iopub.execute_input": "2023-11-11T18:36:52.055646Z",
     "iopub.status.busy": "2023-11-11T18:36:52.054952Z",
     "iopub.status.idle": "2023-11-11T18:36:52.065804Z",
     "shell.execute_reply": "2023-11-11T18:36:52.064769Z"
    },
    "papermill": {
     "duration": 0.026368,
     "end_time": "2023-11-11T18:36:52.068127",
     "exception": false,
     "start_time": "2023-11-11T18:36:52.041759",
     "status": "completed"
    },
    "tags": []
   },
   "outputs": [
    {
     "data": {
      "text/plain": [
       "Device Class\n",
       "High End    3096\n",
       "Mid End     2421\n",
       "Low End     1526\n",
       "Name: count, dtype: int64"
      ]
     },
     "execution_count": 6,
     "metadata": {},
     "output_type": "execute_result"
    }
   ],
   "source": [
    "datacluster['Device Class'].value_counts()"
   ]
  },
  {
   "cell_type": "code",
   "execution_count": 7,
   "id": "c399a151",
   "metadata": {
    "execution": {
     "iopub.execute_input": "2023-11-11T18:36:52.093522Z",
     "iopub.status.busy": "2023-11-11T18:36:52.093164Z",
     "iopub.status.idle": "2023-11-11T18:36:52.102205Z",
     "shell.execute_reply": "2023-11-11T18:36:52.101208Z"
    },
    "papermill": {
     "duration": 0.023997,
     "end_time": "2023-11-11T18:36:52.104081",
     "exception": false,
     "start_time": "2023-11-11T18:36:52.080084",
     "status": "completed"
    },
    "tags": []
   },
   "outputs": [
    {
     "data": {
      "text/plain": [
       "Churn Label\n",
       "No     5174\n",
       "Yes    1869\n",
       "Name: count, dtype: int64"
      ]
     },
     "execution_count": 7,
     "metadata": {},
     "output_type": "execute_result"
    }
   ],
   "source": [
    "datacluster['Churn Label'].value_counts()"
   ]
  },
  {
   "cell_type": "code",
   "execution_count": 8,
   "id": "4eb846ef",
   "metadata": {
    "execution": {
     "iopub.execute_input": "2023-11-11T18:36:52.129081Z",
     "iopub.status.busy": "2023-11-11T18:36:52.128481Z",
     "iopub.status.idle": "2023-11-11T18:36:52.145205Z",
     "shell.execute_reply": "2023-11-11T18:36:52.144500Z"
    },
    "papermill": {
     "duration": 0.031187,
     "end_time": "2023-11-11T18:36:52.146855",
     "exception": false,
     "start_time": "2023-11-11T18:36:52.115668",
     "status": "completed"
    },
    "tags": []
   },
   "outputs": [
    {
     "data": {
      "text/html": [
       "<div>\n",
       "<style scoped>\n",
       "    .dataframe tbody tr th:only-of-type {\n",
       "        vertical-align: middle;\n",
       "    }\n",
       "\n",
       "    .dataframe tbody tr th {\n",
       "        vertical-align: top;\n",
       "    }\n",
       "\n",
       "    .dataframe thead th {\n",
       "        text-align: right;\n",
       "    }\n",
       "</style>\n",
       "<table border=\"1\" class=\"dataframe\">\n",
       "  <thead>\n",
       "    <tr style=\"text-align: right;\">\n",
       "      <th></th>\n",
       "      <th>Device Class</th>\n",
       "      <th>Monthly Purchase (Thou. IDR)</th>\n",
       "      <th>Churn Label</th>\n",
       "      <th>Months</th>\n",
       "    </tr>\n",
       "  </thead>\n",
       "  <tbody>\n",
       "    <tr>\n",
       "      <th>0</th>\n",
       "      <td>Mid End</td>\n",
       "      <td>70.005</td>\n",
       "      <td>Yes</td>\n",
       "      <td>New User (0-12 Months)</td>\n",
       "    </tr>\n",
       "    <tr>\n",
       "      <th>1</th>\n",
       "      <td>High End</td>\n",
       "      <td>91.910</td>\n",
       "      <td>Yes</td>\n",
       "      <td>New User (0-12 Months)</td>\n",
       "    </tr>\n",
       "    <tr>\n",
       "      <th>2</th>\n",
       "      <td>High End</td>\n",
       "      <td>129.545</td>\n",
       "      <td>Yes</td>\n",
       "      <td>New User (0-12 Months)</td>\n",
       "    </tr>\n",
       "    <tr>\n",
       "      <th>3</th>\n",
       "      <td>High End</td>\n",
       "      <td>136.240</td>\n",
       "      <td>Yes</td>\n",
       "      <td>Intermediate User (13-48 Months)</td>\n",
       "    </tr>\n",
       "    <tr>\n",
       "      <th>4</th>\n",
       "      <td>High End</td>\n",
       "      <td>134.810</td>\n",
       "      <td>Yes</td>\n",
       "      <td>Old User (49-72 Months)</td>\n",
       "    </tr>\n",
       "    <tr>\n",
       "      <th>...</th>\n",
       "      <td>...</td>\n",
       "      <td>...</td>\n",
       "      <td>...</td>\n",
       "      <td>...</td>\n",
       "    </tr>\n",
       "    <tr>\n",
       "      <th>7038</th>\n",
       "      <td>Low End</td>\n",
       "      <td>27.495</td>\n",
       "      <td>No</td>\n",
       "      <td>Old User (49-72 Months)</td>\n",
       "    </tr>\n",
       "    <tr>\n",
       "      <th>7039</th>\n",
       "      <td>Mid End</td>\n",
       "      <td>110.240</td>\n",
       "      <td>No</td>\n",
       "      <td>Intermediate User (13-48 Months)</td>\n",
       "    </tr>\n",
       "    <tr>\n",
       "      <th>7040</th>\n",
       "      <td>High End</td>\n",
       "      <td>134.160</td>\n",
       "      <td>No</td>\n",
       "      <td>Old User (49-72 Months)</td>\n",
       "    </tr>\n",
       "    <tr>\n",
       "      <th>7041</th>\n",
       "      <td>Mid End</td>\n",
       "      <td>38.480</td>\n",
       "      <td>No</td>\n",
       "      <td>New User (0-12 Months)</td>\n",
       "    </tr>\n",
       "    <tr>\n",
       "      <th>7042</th>\n",
       "      <td>High End</td>\n",
       "      <td>137.345</td>\n",
       "      <td>No</td>\n",
       "      <td>Old User (49-72 Months)</td>\n",
       "    </tr>\n",
       "  </tbody>\n",
       "</table>\n",
       "<p>7043 rows × 4 columns</p>\n",
       "</div>"
      ],
      "text/plain": [
       "     Device Class  Monthly Purchase (Thou. IDR) Churn Label  \\\n",
       "0         Mid End                        70.005         Yes   \n",
       "1        High End                        91.910         Yes   \n",
       "2        High End                       129.545         Yes   \n",
       "3        High End                       136.240         Yes   \n",
       "4        High End                       134.810         Yes   \n",
       "...           ...                           ...         ...   \n",
       "7038      Low End                        27.495          No   \n",
       "7039      Mid End                       110.240          No   \n",
       "7040     High End                       134.160          No   \n",
       "7041      Mid End                        38.480          No   \n",
       "7042     High End                       137.345          No   \n",
       "\n",
       "                                Months  \n",
       "0               New User (0-12 Months)  \n",
       "1               New User (0-12 Months)  \n",
       "2               New User (0-12 Months)  \n",
       "3     Intermediate User (13-48 Months)  \n",
       "4              Old User (49-72 Months)  \n",
       "...                                ...  \n",
       "7038           Old User (49-72 Months)  \n",
       "7039  Intermediate User (13-48 Months)  \n",
       "7040           Old User (49-72 Months)  \n",
       "7041            New User (0-12 Months)  \n",
       "7042           Old User (49-72 Months)  \n",
       "\n",
       "[7043 rows x 4 columns]"
      ]
     },
     "execution_count": 8,
     "metadata": {},
     "output_type": "execute_result"
    }
   ],
   "source": [
    "datacluster=datacluster.drop('Tenure Months',axis=1)\n",
    "datacluster"
   ]
  },
  {
   "cell_type": "markdown",
   "id": "e98f0c3d",
   "metadata": {
    "papermill": {
     "duration": 0.011488,
     "end_time": "2023-11-11T18:36:52.170214",
     "exception": false,
     "start_time": "2023-11-11T18:36:52.158726",
     "status": "completed"
    },
    "tags": []
   },
   "source": [
    "# Model With K-Prototypes"
   ]
  },
  {
   "cell_type": "code",
   "execution_count": 9,
   "id": "fc7d0bdd",
   "metadata": {
    "execution": {
     "iopub.execute_input": "2023-11-11T18:36:52.195402Z",
     "iopub.status.busy": "2023-11-11T18:36:52.194789Z",
     "iopub.status.idle": "2023-11-11T18:36:52.198763Z",
     "shell.execute_reply": "2023-11-11T18:36:52.197831Z"
    },
    "papermill": {
     "duration": 0.018907,
     "end_time": "2023-11-11T18:36:52.200890",
     "exception": false,
     "start_time": "2023-11-11T18:36:52.181983",
     "status": "completed"
    },
    "tags": []
   },
   "outputs": [],
   "source": [
    " kproto = KPrototypes(n_clusters=2, init='Huang', random_state=42)"
   ]
  },
  {
   "cell_type": "code",
   "execution_count": 10,
   "id": "beded6f5",
   "metadata": {
    "execution": {
     "iopub.execute_input": "2023-11-11T18:36:52.274186Z",
     "iopub.status.busy": "2023-11-11T18:36:52.273623Z",
     "iopub.status.idle": "2023-11-11T18:37:28.013656Z",
     "shell.execute_reply": "2023-11-11T18:37:28.012695Z"
    },
    "papermill": {
     "duration": 35.755426,
     "end_time": "2023-11-11T18:37:28.015920",
     "exception": false,
     "start_time": "2023-11-11T18:36:52.260494",
     "status": "completed"
    },
    "tags": []
   },
   "outputs": [],
   "source": [
    "inicluster = kproto.fit_predict(datacluster, categorical=[0,2,3])"
   ]
  },
  {
   "cell_type": "code",
   "execution_count": 11,
   "id": "2401715d",
   "metadata": {
    "execution": {
     "iopub.execute_input": "2023-11-11T18:37:28.041250Z",
     "iopub.status.busy": "2023-11-11T18:37:28.040924Z",
     "iopub.status.idle": "2023-11-11T18:37:28.066396Z",
     "shell.execute_reply": "2023-11-11T18:37:28.065069Z"
    },
    "papermill": {
     "duration": 0.040123,
     "end_time": "2023-11-11T18:37:28.068009",
     "exception": false,
     "start_time": "2023-11-11T18:37:28.027886",
     "status": "completed"
    },
    "tags": []
   },
   "outputs": [
    {
     "data": {
      "text/html": [
       "<div>\n",
       "<style scoped>\n",
       "    .dataframe tbody tr th:only-of-type {\n",
       "        vertical-align: middle;\n",
       "    }\n",
       "\n",
       "    .dataframe tbody tr th {\n",
       "        vertical-align: top;\n",
       "    }\n",
       "\n",
       "    .dataframe thead th {\n",
       "        text-align: right;\n",
       "    }\n",
       "</style>\n",
       "<table border=\"1\" class=\"dataframe\">\n",
       "  <thead>\n",
       "    <tr style=\"text-align: right;\">\n",
       "      <th></th>\n",
       "      <th>Customer ID</th>\n",
       "      <th>Tenure Months</th>\n",
       "      <th>Location</th>\n",
       "      <th>Device Class</th>\n",
       "      <th>Games Product</th>\n",
       "      <th>Music Product</th>\n",
       "      <th>Education Product</th>\n",
       "      <th>Call Center</th>\n",
       "      <th>Video Product</th>\n",
       "      <th>Use MyApp</th>\n",
       "      <th>Payment Method</th>\n",
       "      <th>Monthly Purchase (Thou. IDR)</th>\n",
       "      <th>Churn Label</th>\n",
       "      <th>Longitude</th>\n",
       "      <th>Latitude</th>\n",
       "      <th>CLTV (Predicted Thou. IDR)</th>\n",
       "      <th>Months</th>\n",
       "      <th>cluster</th>\n",
       "    </tr>\n",
       "  </thead>\n",
       "  <tbody>\n",
       "    <tr>\n",
       "      <th>0</th>\n",
       "      <td>0</td>\n",
       "      <td>2</td>\n",
       "      <td>Jakarta</td>\n",
       "      <td>Mid End</td>\n",
       "      <td>Yes</td>\n",
       "      <td>Yes</td>\n",
       "      <td>No</td>\n",
       "      <td>No</td>\n",
       "      <td>No</td>\n",
       "      <td>No</td>\n",
       "      <td>Digital Wallet</td>\n",
       "      <td>70.005</td>\n",
       "      <td>Yes</td>\n",
       "      <td>106.81667</td>\n",
       "      <td>-6.2</td>\n",
       "      <td>4210.7</td>\n",
       "      <td>New User (0-12 Months)</td>\n",
       "      <td>0</td>\n",
       "    </tr>\n",
       "    <tr>\n",
       "      <th>1</th>\n",
       "      <td>1</td>\n",
       "      <td>2</td>\n",
       "      <td>Jakarta</td>\n",
       "      <td>High End</td>\n",
       "      <td>No</td>\n",
       "      <td>No</td>\n",
       "      <td>No</td>\n",
       "      <td>No</td>\n",
       "      <td>No</td>\n",
       "      <td>No</td>\n",
       "      <td>Pulsa</td>\n",
       "      <td>91.910</td>\n",
       "      <td>Yes</td>\n",
       "      <td>106.81667</td>\n",
       "      <td>-6.2</td>\n",
       "      <td>3511.3</td>\n",
       "      <td>New User (0-12 Months)</td>\n",
       "      <td>1</td>\n",
       "    </tr>\n",
       "    <tr>\n",
       "      <th>2</th>\n",
       "      <td>2</td>\n",
       "      <td>8</td>\n",
       "      <td>Jakarta</td>\n",
       "      <td>High End</td>\n",
       "      <td>No</td>\n",
       "      <td>No</td>\n",
       "      <td>Yes</td>\n",
       "      <td>No</td>\n",
       "      <td>Yes</td>\n",
       "      <td>Yes</td>\n",
       "      <td>Pulsa</td>\n",
       "      <td>129.545</td>\n",
       "      <td>Yes</td>\n",
       "      <td>106.81667</td>\n",
       "      <td>-6.2</td>\n",
       "      <td>6983.6</td>\n",
       "      <td>New User (0-12 Months)</td>\n",
       "      <td>1</td>\n",
       "    </tr>\n",
       "    <tr>\n",
       "      <th>3</th>\n",
       "      <td>3</td>\n",
       "      <td>28</td>\n",
       "      <td>Jakarta</td>\n",
       "      <td>High End</td>\n",
       "      <td>No</td>\n",
       "      <td>No</td>\n",
       "      <td>Yes</td>\n",
       "      <td>Yes</td>\n",
       "      <td>Yes</td>\n",
       "      <td>Yes</td>\n",
       "      <td>Pulsa</td>\n",
       "      <td>136.240</td>\n",
       "      <td>Yes</td>\n",
       "      <td>106.81667</td>\n",
       "      <td>-6.2</td>\n",
       "      <td>6503.9</td>\n",
       "      <td>Intermediate User (13-48 Months)</td>\n",
       "      <td>1</td>\n",
       "    </tr>\n",
       "    <tr>\n",
       "      <th>4</th>\n",
       "      <td>4</td>\n",
       "      <td>49</td>\n",
       "      <td>Jakarta</td>\n",
       "      <td>High End</td>\n",
       "      <td>No</td>\n",
       "      <td>Yes</td>\n",
       "      <td>Yes</td>\n",
       "      <td>No</td>\n",
       "      <td>Yes</td>\n",
       "      <td>Yes</td>\n",
       "      <td>Debit</td>\n",
       "      <td>134.810</td>\n",
       "      <td>Yes</td>\n",
       "      <td>106.81667</td>\n",
       "      <td>-6.2</td>\n",
       "      <td>6942.0</td>\n",
       "      <td>Old User (49-72 Months)</td>\n",
       "      <td>1</td>\n",
       "    </tr>\n",
       "    <tr>\n",
       "      <th>...</th>\n",
       "      <td>...</td>\n",
       "      <td>...</td>\n",
       "      <td>...</td>\n",
       "      <td>...</td>\n",
       "      <td>...</td>\n",
       "      <td>...</td>\n",
       "      <td>...</td>\n",
       "      <td>...</td>\n",
       "      <td>...</td>\n",
       "      <td>...</td>\n",
       "      <td>...</td>\n",
       "      <td>...</td>\n",
       "      <td>...</td>\n",
       "      <td>...</td>\n",
       "      <td>...</td>\n",
       "      <td>...</td>\n",
       "      <td>...</td>\n",
       "      <td>...</td>\n",
       "    </tr>\n",
       "    <tr>\n",
       "      <th>7038</th>\n",
       "      <td>7038</td>\n",
       "      <td>72</td>\n",
       "      <td>Jakarta</td>\n",
       "      <td>Low End</td>\n",
       "      <td>No internet service</td>\n",
       "      <td>No internet service</td>\n",
       "      <td>No internet service</td>\n",
       "      <td>No</td>\n",
       "      <td>No internet service</td>\n",
       "      <td>No internet service</td>\n",
       "      <td>Debit</td>\n",
       "      <td>27.495</td>\n",
       "      <td>No</td>\n",
       "      <td>106.81667</td>\n",
       "      <td>-6.2</td>\n",
       "      <td>6897.8</td>\n",
       "      <td>Old User (49-72 Months)</td>\n",
       "      <td>0</td>\n",
       "    </tr>\n",
       "    <tr>\n",
       "      <th>7039</th>\n",
       "      <td>7039</td>\n",
       "      <td>24</td>\n",
       "      <td>Jakarta</td>\n",
       "      <td>Mid End</td>\n",
       "      <td>Yes</td>\n",
       "      <td>No</td>\n",
       "      <td>Yes</td>\n",
       "      <td>Yes</td>\n",
       "      <td>Yes</td>\n",
       "      <td>Yes</td>\n",
       "      <td>Digital Wallet</td>\n",
       "      <td>110.240</td>\n",
       "      <td>No</td>\n",
       "      <td>106.81667</td>\n",
       "      <td>-6.2</td>\n",
       "      <td>2782.0</td>\n",
       "      <td>Intermediate User (13-48 Months)</td>\n",
       "      <td>1</td>\n",
       "    </tr>\n",
       "    <tr>\n",
       "      <th>7040</th>\n",
       "      <td>7040</td>\n",
       "      <td>72</td>\n",
       "      <td>Jakarta</td>\n",
       "      <td>High End</td>\n",
       "      <td>No</td>\n",
       "      <td>Yes</td>\n",
       "      <td>Yes</td>\n",
       "      <td>No</td>\n",
       "      <td>Yes</td>\n",
       "      <td>Yes</td>\n",
       "      <td>Credit</td>\n",
       "      <td>134.160</td>\n",
       "      <td>No</td>\n",
       "      <td>106.81667</td>\n",
       "      <td>-6.2</td>\n",
       "      <td>7228.0</td>\n",
       "      <td>Old User (49-72 Months)</td>\n",
       "      <td>1</td>\n",
       "    </tr>\n",
       "    <tr>\n",
       "      <th>7041</th>\n",
       "      <td>7041</td>\n",
       "      <td>11</td>\n",
       "      <td>Jakarta</td>\n",
       "      <td>Mid End</td>\n",
       "      <td>Yes</td>\n",
       "      <td>No</td>\n",
       "      <td>No</td>\n",
       "      <td>No</td>\n",
       "      <td>No</td>\n",
       "      <td>No</td>\n",
       "      <td>Pulsa</td>\n",
       "      <td>38.480</td>\n",
       "      <td>No</td>\n",
       "      <td>106.81667</td>\n",
       "      <td>-6.2</td>\n",
       "      <td>3630.9</td>\n",
       "      <td>New User (0-12 Months)</td>\n",
       "      <td>0</td>\n",
       "    </tr>\n",
       "    <tr>\n",
       "      <th>7042</th>\n",
       "      <td>7042</td>\n",
       "      <td>66</td>\n",
       "      <td>Jakarta</td>\n",
       "      <td>High End</td>\n",
       "      <td>Yes</td>\n",
       "      <td>No</td>\n",
       "      <td>Yes</td>\n",
       "      <td>Yes</td>\n",
       "      <td>Yes</td>\n",
       "      <td>Yes</td>\n",
       "      <td>Debit</td>\n",
       "      <td>137.345</td>\n",
       "      <td>No</td>\n",
       "      <td>106.81667</td>\n",
       "      <td>-6.2</td>\n",
       "      <td>6626.1</td>\n",
       "      <td>Old User (49-72 Months)</td>\n",
       "      <td>1</td>\n",
       "    </tr>\n",
       "  </tbody>\n",
       "</table>\n",
       "<p>7043 rows × 18 columns</p>\n",
       "</div>"
      ],
      "text/plain": [
       "      Customer ID  Tenure Months Location Device Class        Games Product  \\\n",
       "0               0              2  Jakarta      Mid End                  Yes   \n",
       "1               1              2  Jakarta     High End                   No   \n",
       "2               2              8  Jakarta     High End                   No   \n",
       "3               3             28  Jakarta     High End                   No   \n",
       "4               4             49  Jakarta     High End                   No   \n",
       "...           ...            ...      ...          ...                  ...   \n",
       "7038         7038             72  Jakarta      Low End  No internet service   \n",
       "7039         7039             24  Jakarta      Mid End                  Yes   \n",
       "7040         7040             72  Jakarta     High End                   No   \n",
       "7041         7041             11  Jakarta      Mid End                  Yes   \n",
       "7042         7042             66  Jakarta     High End                  Yes   \n",
       "\n",
       "            Music Product    Education Product Call Center  \\\n",
       "0                     Yes                   No          No   \n",
       "1                      No                   No          No   \n",
       "2                      No                  Yes          No   \n",
       "3                      No                  Yes         Yes   \n",
       "4                     Yes                  Yes          No   \n",
       "...                   ...                  ...         ...   \n",
       "7038  No internet service  No internet service          No   \n",
       "7039                   No                  Yes         Yes   \n",
       "7040                  Yes                  Yes          No   \n",
       "7041                   No                   No          No   \n",
       "7042                   No                  Yes         Yes   \n",
       "\n",
       "            Video Product            Use MyApp  Payment Method  \\\n",
       "0                      No                   No  Digital Wallet   \n",
       "1                      No                   No           Pulsa   \n",
       "2                     Yes                  Yes           Pulsa   \n",
       "3                     Yes                  Yes           Pulsa   \n",
       "4                     Yes                  Yes           Debit   \n",
       "...                   ...                  ...             ...   \n",
       "7038  No internet service  No internet service           Debit   \n",
       "7039                  Yes                  Yes  Digital Wallet   \n",
       "7040                  Yes                  Yes          Credit   \n",
       "7041                   No                   No           Pulsa   \n",
       "7042                  Yes                  Yes           Debit   \n",
       "\n",
       "      Monthly Purchase (Thou. IDR) Churn Label  Longitude  Latitude  \\\n",
       "0                           70.005         Yes  106.81667      -6.2   \n",
       "1                           91.910         Yes  106.81667      -6.2   \n",
       "2                          129.545         Yes  106.81667      -6.2   \n",
       "3                          136.240         Yes  106.81667      -6.2   \n",
       "4                          134.810         Yes  106.81667      -6.2   \n",
       "...                            ...         ...        ...       ...   \n",
       "7038                        27.495          No  106.81667      -6.2   \n",
       "7039                       110.240          No  106.81667      -6.2   \n",
       "7040                       134.160          No  106.81667      -6.2   \n",
       "7041                        38.480          No  106.81667      -6.2   \n",
       "7042                       137.345          No  106.81667      -6.2   \n",
       "\n",
       "      CLTV (Predicted Thou. IDR)                            Months  cluster  \n",
       "0                         4210.7            New User (0-12 Months)        0  \n",
       "1                         3511.3            New User (0-12 Months)        1  \n",
       "2                         6983.6            New User (0-12 Months)        1  \n",
       "3                         6503.9  Intermediate User (13-48 Months)        1  \n",
       "4                         6942.0           Old User (49-72 Months)        1  \n",
       "...                          ...                               ...      ...  \n",
       "7038                      6897.8           Old User (49-72 Months)        0  \n",
       "7039                      2782.0  Intermediate User (13-48 Months)        1  \n",
       "7040                      7228.0           Old User (49-72 Months)        1  \n",
       "7041                      3630.9            New User (0-12 Months)        0  \n",
       "7042                      6626.1           Old User (49-72 Months)        1  \n",
       "\n",
       "[7043 rows x 18 columns]"
      ]
     },
     "execution_count": 11,
     "metadata": {},
     "output_type": "execute_result"
    }
   ],
   "source": [
    "df_clusters = pd.concat([data, pd.DataFrame({'cluster': inicluster})], axis=1)  \n",
    "df_clusters"
   ]
  },
  {
   "cell_type": "markdown",
   "id": "d27d7d4e",
   "metadata": {
    "papermill": {
     "duration": 0.011896,
     "end_time": "2023-11-11T18:37:28.093002",
     "exception": false,
     "start_time": "2023-11-11T18:37:28.081106",
     "status": "completed"
    },
    "tags": []
   },
   "source": [
    "# Information After Clustering"
   ]
  },
  {
   "cell_type": "code",
   "execution_count": 12,
   "id": "07a0fa06",
   "metadata": {
    "execution": {
     "iopub.execute_input": "2023-11-11T18:37:28.119048Z",
     "iopub.status.busy": "2023-11-11T18:37:28.118413Z",
     "iopub.status.idle": "2023-11-11T18:37:28.128111Z",
     "shell.execute_reply": "2023-11-11T18:37:28.126969Z"
    },
    "papermill": {
     "duration": 0.025046,
     "end_time": "2023-11-11T18:37:28.130174",
     "exception": false,
     "start_time": "2023-11-11T18:37:28.105128",
     "status": "completed"
    },
    "tags": []
   },
   "outputs": [],
   "source": [
    "cluster_0 = df_clusters[df_clusters['cluster'] == 0]\n",
    "cluster_1 = df_clusters[df_clusters['cluster'] == 1]"
   ]
  },
  {
   "cell_type": "code",
   "execution_count": 13,
   "id": "71c2e1b6",
   "metadata": {
    "execution": {
     "iopub.execute_input": "2023-11-11T18:37:28.156091Z",
     "iopub.status.busy": "2023-11-11T18:37:28.155789Z",
     "iopub.status.idle": "2023-11-11T18:37:28.173812Z",
     "shell.execute_reply": "2023-11-11T18:37:28.173004Z"
    },
    "papermill": {
     "duration": 0.032916,
     "end_time": "2023-11-11T18:37:28.175580",
     "exception": false,
     "start_time": "2023-11-11T18:37:28.142664",
     "status": "completed"
    },
    "tags": []
   },
   "outputs": [
    {
     "data": {
      "text/html": [
       "<div>\n",
       "<style scoped>\n",
       "    .dataframe tbody tr th:only-of-type {\n",
       "        vertical-align: middle;\n",
       "    }\n",
       "\n",
       "    .dataframe tbody tr th {\n",
       "        vertical-align: top;\n",
       "    }\n",
       "\n",
       "    .dataframe thead th {\n",
       "        text-align: right;\n",
       "    }\n",
       "</style>\n",
       "<table border=\"1\" class=\"dataframe\">\n",
       "  <thead>\n",
       "    <tr style=\"text-align: right;\">\n",
       "      <th></th>\n",
       "      <th>Monthly Purchase (Thou. IDR)</th>\n",
       "      <th>CLTV (Predicted Thou. IDR)</th>\n",
       "    </tr>\n",
       "  </thead>\n",
       "  <tbody>\n",
       "    <tr>\n",
       "      <th>count</th>\n",
       "      <td>2934.000000</td>\n",
       "      <td>2934.000000</td>\n",
       "    </tr>\n",
       "    <tr>\n",
       "      <th>mean</th>\n",
       "      <td>43.464973</td>\n",
       "      <td>5603.548091</td>\n",
       "    </tr>\n",
       "    <tr>\n",
       "      <th>std</th>\n",
       "      <td>18.967299</td>\n",
       "      <td>1540.946957</td>\n",
       "    </tr>\n",
       "    <tr>\n",
       "      <th>min</th>\n",
       "      <td>23.725000</td>\n",
       "      <td>2603.900000</td>\n",
       "    </tr>\n",
       "    <tr>\n",
       "      <th>25%</th>\n",
       "      <td>26.130000</td>\n",
       "      <td>4330.625000</td>\n",
       "    </tr>\n",
       "    <tr>\n",
       "      <th>50%</th>\n",
       "      <td>32.825000</td>\n",
       "      <td>5750.550000</td>\n",
       "    </tr>\n",
       "    <tr>\n",
       "      <th>75%</th>\n",
       "      <td>63.765000</td>\n",
       "      <td>6919.575000</td>\n",
       "    </tr>\n",
       "    <tr>\n",
       "      <th>max</th>\n",
       "      <td>78.325000</td>\n",
       "      <td>8448.700000</td>\n",
       "    </tr>\n",
       "  </tbody>\n",
       "</table>\n",
       "</div>"
      ],
      "text/plain": [
       "       Monthly Purchase (Thou. IDR)  CLTV (Predicted Thou. IDR)\n",
       "count                   2934.000000                 2934.000000\n",
       "mean                      43.464973                 5603.548091\n",
       "std                       18.967299                 1540.946957\n",
       "min                       23.725000                 2603.900000\n",
       "25%                       26.130000                 4330.625000\n",
       "50%                       32.825000                 5750.550000\n",
       "75%                       63.765000                 6919.575000\n",
       "max                       78.325000                 8448.700000"
      ]
     },
     "execution_count": 13,
     "metadata": {},
     "output_type": "execute_result"
    }
   ],
   "source": [
    "cluster_0[['Monthly Purchase (Thou. IDR)','CLTV (Predicted Thou. IDR)']].describe()"
   ]
  },
  {
   "cell_type": "code",
   "execution_count": 14,
   "id": "3459b8df",
   "metadata": {
    "execution": {
     "iopub.execute_input": "2023-11-11T18:37:28.202861Z",
     "iopub.status.busy": "2023-11-11T18:37:28.202208Z",
     "iopub.status.idle": "2023-11-11T18:37:28.210260Z",
     "shell.execute_reply": "2023-11-11T18:37:28.209224Z"
    },
    "papermill": {
     "duration": 0.024458,
     "end_time": "2023-11-11T18:37:28.212753",
     "exception": false,
     "start_time": "2023-11-11T18:37:28.188295",
     "status": "completed"
    },
    "tags": []
   },
   "outputs": [
    {
     "data": {
      "text/plain": [
       "Churn Label\n",
       "No     2439\n",
       "Yes     495\n",
       "Name: count, dtype: int64"
      ]
     },
     "execution_count": 14,
     "metadata": {},
     "output_type": "execute_result"
    }
   ],
   "source": [
    "cluster_0['Churn Label'].value_counts()"
   ]
  },
  {
   "cell_type": "code",
   "execution_count": 15,
   "id": "f2b17d06",
   "metadata": {
    "execution": {
     "iopub.execute_input": "2023-11-11T18:37:28.239590Z",
     "iopub.status.busy": "2023-11-11T18:37:28.239239Z",
     "iopub.status.idle": "2023-11-11T18:37:28.247076Z",
     "shell.execute_reply": "2023-11-11T18:37:28.246073Z"
    },
    "papermill": {
     "duration": 0.023761,
     "end_time": "2023-11-11T18:37:28.249392",
     "exception": false,
     "start_time": "2023-11-11T18:37:28.225631",
     "status": "completed"
    },
    "tags": []
   },
   "outputs": [
    {
     "data": {
      "text/plain": [
       "Device Class\n",
       "Low End    1526\n",
       "Mid End    1408\n",
       "Name: count, dtype: int64"
      ]
     },
     "execution_count": 15,
     "metadata": {},
     "output_type": "execute_result"
    }
   ],
   "source": [
    "cluster_0['Device Class'].value_counts()"
   ]
  },
  {
   "cell_type": "code",
   "execution_count": 16,
   "id": "7ed2ccec",
   "metadata": {
    "execution": {
     "iopub.execute_input": "2023-11-11T18:37:28.277546Z",
     "iopub.status.busy": "2023-11-11T18:37:28.276784Z",
     "iopub.status.idle": "2023-11-11T18:37:28.283952Z",
     "shell.execute_reply": "2023-11-11T18:37:28.282690Z"
    },
    "papermill": {
     "duration": 0.023569,
     "end_time": "2023-11-11T18:37:28.285730",
     "exception": false,
     "start_time": "2023-11-11T18:37:28.262161",
     "status": "completed"
    },
    "tags": []
   },
   "outputs": [
    {
     "data": {
      "text/plain": [
       "Device Class\n",
       "Low End    1526\n",
       "Mid End    1408\n",
       "Name: count, dtype: int64"
      ]
     },
     "execution_count": 16,
     "metadata": {},
     "output_type": "execute_result"
    }
   ],
   "source": [
    "cluster_0['Device Class'].value_counts()"
   ]
  },
  {
   "cell_type": "code",
   "execution_count": 17,
   "id": "983e9f55",
   "metadata": {
    "execution": {
     "iopub.execute_input": "2023-11-11T18:37:28.312671Z",
     "iopub.status.busy": "2023-11-11T18:37:28.312340Z",
     "iopub.status.idle": "2023-11-11T18:37:28.320177Z",
     "shell.execute_reply": "2023-11-11T18:37:28.318959Z"
    },
    "papermill": {
     "duration": 0.023248,
     "end_time": "2023-11-11T18:37:28.321887",
     "exception": false,
     "start_time": "2023-11-11T18:37:28.298639",
     "status": "completed"
    },
    "tags": []
   },
   "outputs": [
    {
     "data": {
      "text/plain": [
       "Months\n",
       "New User (0-12 Months)              1140\n",
       "Intermediate User (13-48 Months)    1110\n",
       "Old User (49-72 Months)              684\n",
       "Name: count, dtype: int64"
      ]
     },
     "execution_count": 17,
     "metadata": {},
     "output_type": "execute_result"
    }
   ],
   "source": [
    "cluster_0['Months'].value_counts()"
   ]
  },
  {
   "cell_type": "code",
   "execution_count": 18,
   "id": "71efd751",
   "metadata": {
    "execution": {
     "iopub.execute_input": "2023-11-11T18:37:28.348925Z",
     "iopub.status.busy": "2023-11-11T18:37:28.348591Z",
     "iopub.status.idle": "2023-11-11T18:37:28.362727Z",
     "shell.execute_reply": "2023-11-11T18:37:28.361866Z"
    },
    "papermill": {
     "duration": 0.029736,
     "end_time": "2023-11-11T18:37:28.364313",
     "exception": false,
     "start_time": "2023-11-11T18:37:28.334577",
     "status": "completed"
    },
    "tags": []
   },
   "outputs": [
    {
     "data": {
      "text/html": [
       "<div>\n",
       "<style scoped>\n",
       "    .dataframe tbody tr th:only-of-type {\n",
       "        vertical-align: middle;\n",
       "    }\n",
       "\n",
       "    .dataframe tbody tr th {\n",
       "        vertical-align: top;\n",
       "    }\n",
       "\n",
       "    .dataframe thead th {\n",
       "        text-align: right;\n",
       "    }\n",
       "</style>\n",
       "<table border=\"1\" class=\"dataframe\">\n",
       "  <thead>\n",
       "    <tr style=\"text-align: right;\">\n",
       "      <th></th>\n",
       "      <th>Monthly Purchase (Thou. IDR)</th>\n",
       "      <th>CLTV (Predicted Thou. IDR)</th>\n",
       "    </tr>\n",
       "  </thead>\n",
       "  <tbody>\n",
       "    <tr>\n",
       "      <th>count</th>\n",
       "      <td>4109.000000</td>\n",
       "      <td>4109.000000</td>\n",
       "    </tr>\n",
       "    <tr>\n",
       "      <th>mean</th>\n",
       "      <td>113.269737</td>\n",
       "      <td>5803.810611</td>\n",
       "    </tr>\n",
       "    <tr>\n",
       "      <th>std</th>\n",
       "      <td>18.323655</td>\n",
       "      <td>1530.586438</td>\n",
       "    </tr>\n",
       "    <tr>\n",
       "      <th>min</th>\n",
       "      <td>78.260000</td>\n",
       "      <td>2603.900000</td>\n",
       "    </tr>\n",
       "    <tr>\n",
       "      <th>25%</th>\n",
       "      <td>97.890000</td>\n",
       "      <td>4652.700000</td>\n",
       "    </tr>\n",
       "    <tr>\n",
       "      <th>50%</th>\n",
       "      <td>111.800000</td>\n",
       "      <td>5983.900000</td>\n",
       "    </tr>\n",
       "    <tr>\n",
       "      <th>75%</th>\n",
       "      <td>128.570000</td>\n",
       "      <td>7044.700000</td>\n",
       "    </tr>\n",
       "    <tr>\n",
       "      <th>max</th>\n",
       "      <td>154.375000</td>\n",
       "      <td>8450.000000</td>\n",
       "    </tr>\n",
       "  </tbody>\n",
       "</table>\n",
       "</div>"
      ],
      "text/plain": [
       "       Monthly Purchase (Thou. IDR)  CLTV (Predicted Thou. IDR)\n",
       "count                   4109.000000                 4109.000000\n",
       "mean                     113.269737                 5803.810611\n",
       "std                       18.323655                 1530.586438\n",
       "min                       78.260000                 2603.900000\n",
       "25%                       97.890000                 4652.700000\n",
       "50%                      111.800000                 5983.900000\n",
       "75%                      128.570000                 7044.700000\n",
       "max                      154.375000                 8450.000000"
      ]
     },
     "execution_count": 18,
     "metadata": {},
     "output_type": "execute_result"
    }
   ],
   "source": [
    "cluster_1[['Monthly Purchase (Thou. IDR)','CLTV (Predicted Thou. IDR)']].describe()"
   ]
  },
  {
   "cell_type": "code",
   "execution_count": 19,
   "id": "6f4dafcd",
   "metadata": {
    "execution": {
     "iopub.execute_input": "2023-11-11T18:37:28.391786Z",
     "iopub.status.busy": "2023-11-11T18:37:28.391420Z",
     "iopub.status.idle": "2023-11-11T18:37:28.398559Z",
     "shell.execute_reply": "2023-11-11T18:37:28.397711Z"
    },
    "papermill": {
     "duration": 0.023038,
     "end_time": "2023-11-11T18:37:28.400475",
     "exception": false,
     "start_time": "2023-11-11T18:37:28.377437",
     "status": "completed"
    },
    "tags": []
   },
   "outputs": [
    {
     "data": {
      "text/plain": [
       "Churn Label\n",
       "No     2735\n",
       "Yes    1374\n",
       "Name: count, dtype: int64"
      ]
     },
     "execution_count": 19,
     "metadata": {},
     "output_type": "execute_result"
    }
   ],
   "source": [
    "cluster_1['Churn Label'].value_counts()"
   ]
  },
  {
   "cell_type": "code",
   "execution_count": 20,
   "id": "ac9abaad",
   "metadata": {
    "execution": {
     "iopub.execute_input": "2023-11-11T18:37:28.428324Z",
     "iopub.status.busy": "2023-11-11T18:37:28.428008Z",
     "iopub.status.idle": "2023-11-11T18:37:28.435038Z",
     "shell.execute_reply": "2023-11-11T18:37:28.434244Z"
    },
    "papermill": {
     "duration": 0.02335,
     "end_time": "2023-11-11T18:37:28.437122",
     "exception": false,
     "start_time": "2023-11-11T18:37:28.413772",
     "status": "completed"
    },
    "tags": []
   },
   "outputs": [
    {
     "data": {
      "text/plain": [
       "Device Class\n",
       "High End    3096\n",
       "Mid End     1013\n",
       "Name: count, dtype: int64"
      ]
     },
     "execution_count": 20,
     "metadata": {},
     "output_type": "execute_result"
    }
   ],
   "source": [
    "cluster_1['Device Class'].value_counts()"
   ]
  },
  {
   "cell_type": "code",
   "execution_count": 21,
   "id": "0fd036f3",
   "metadata": {
    "execution": {
     "iopub.execute_input": "2023-11-11T18:37:28.464465Z",
     "iopub.status.busy": "2023-11-11T18:37:28.464103Z",
     "iopub.status.idle": "2023-11-11T18:37:28.472883Z",
     "shell.execute_reply": "2023-11-11T18:37:28.471766Z"
    },
    "papermill": {
     "duration": 0.024543,
     "end_time": "2023-11-11T18:37:28.474783",
     "exception": false,
     "start_time": "2023-11-11T18:37:28.450240",
     "status": "completed"
    },
    "tags": []
   },
   "outputs": [
    {
     "data": {
      "text/plain": [
       "Months\n",
       "Old User (49-72 Months)             1555\n",
       "Intermediate User (13-48 Months)    1508\n",
       "New User (0-12 Months)              1046\n",
       "Name: count, dtype: int64"
      ]
     },
     "execution_count": 21,
     "metadata": {},
     "output_type": "execute_result"
    }
   ],
   "source": [
    "cluster_1['Months'].value_counts()"
   ]
  },
  {
   "cell_type": "code",
   "execution_count": 22,
   "id": "b9eabae4",
   "metadata": {
    "execution": {
     "iopub.execute_input": "2023-11-11T18:37:28.502722Z",
     "iopub.status.busy": "2023-11-11T18:37:28.502398Z",
     "iopub.status.idle": "2023-11-11T18:37:28.510207Z",
     "shell.execute_reply": "2023-11-11T18:37:28.509412Z"
    },
    "papermill": {
     "duration": 0.023667,
     "end_time": "2023-11-11T18:37:28.511791",
     "exception": false,
     "start_time": "2023-11-11T18:37:28.488124",
     "status": "completed"
    },
    "tags": []
   },
   "outputs": [
    {
     "data": {
      "text/plain": [
       "cluster\n",
       "1    4109\n",
       "0    2934\n",
       "Name: count, dtype: int64"
      ]
     },
     "execution_count": 22,
     "metadata": {},
     "output_type": "execute_result"
    }
   ],
   "source": [
    "df_clusters['cluster'].value_counts()"
   ]
  },
  {
   "cell_type": "markdown",
   "id": "2a93580e",
   "metadata": {
    "papermill": {
     "duration": 0.012705,
     "end_time": "2023-11-11T18:37:28.537732",
     "exception": false,
     "start_time": "2023-11-11T18:37:28.525027",
     "status": "completed"
    },
    "tags": []
   },
   "source": [
    "# Visualisasi Data"
   ]
  },
  {
   "cell_type": "code",
   "execution_count": 23,
   "id": "ae0e2ab7",
   "metadata": {
    "execution": {
     "iopub.execute_input": "2023-11-11T18:37:28.565285Z",
     "iopub.status.busy": "2023-11-11T18:37:28.564943Z",
     "iopub.status.idle": "2023-11-11T18:37:28.587866Z",
     "shell.execute_reply": "2023-11-11T18:37:28.587044Z"
    },
    "papermill": {
     "duration": 0.038696,
     "end_time": "2023-11-11T18:37:28.589493",
     "exception": false,
     "start_time": "2023-11-11T18:37:28.550797",
     "status": "completed"
    },
    "tags": []
   },
   "outputs": [
    {
     "data": {
      "text/html": [
       "<div>\n",
       "<style scoped>\n",
       "    .dataframe tbody tr th:only-of-type {\n",
       "        vertical-align: middle;\n",
       "    }\n",
       "\n",
       "    .dataframe tbody tr th {\n",
       "        vertical-align: top;\n",
       "    }\n",
       "\n",
       "    .dataframe thead th {\n",
       "        text-align: right;\n",
       "    }\n",
       "</style>\n",
       "<table border=\"1\" class=\"dataframe\">\n",
       "  <thead>\n",
       "    <tr style=\"text-align: right;\">\n",
       "      <th></th>\n",
       "      <th>Customer ID</th>\n",
       "      <th>Tenure Months</th>\n",
       "      <th>Location</th>\n",
       "      <th>Device Class</th>\n",
       "      <th>Games Product</th>\n",
       "      <th>Music Product</th>\n",
       "      <th>Education Product</th>\n",
       "      <th>Call Center</th>\n",
       "      <th>Video Product</th>\n",
       "      <th>Use MyApp</th>\n",
       "      <th>Payment Method</th>\n",
       "      <th>Monthly Purchase (Thou. IDR)</th>\n",
       "      <th>Churn Label</th>\n",
       "      <th>Longitude</th>\n",
       "      <th>Latitude</th>\n",
       "      <th>CLTV (Predicted Thou. IDR)</th>\n",
       "      <th>Months</th>\n",
       "      <th>cluster</th>\n",
       "    </tr>\n",
       "  </thead>\n",
       "  <tbody>\n",
       "    <tr>\n",
       "      <th>0</th>\n",
       "      <td>0</td>\n",
       "      <td>2</td>\n",
       "      <td>Jakarta</td>\n",
       "      <td>Mid End</td>\n",
       "      <td>Yes</td>\n",
       "      <td>Yes</td>\n",
       "      <td>No</td>\n",
       "      <td>No</td>\n",
       "      <td>No</td>\n",
       "      <td>No</td>\n",
       "      <td>Digital Wallet</td>\n",
       "      <td>70.005</td>\n",
       "      <td>Yes</td>\n",
       "      <td>106.81667</td>\n",
       "      <td>-6.2</td>\n",
       "      <td>4210.7</td>\n",
       "      <td>New User (0-12 Months)</td>\n",
       "      <td>0</td>\n",
       "    </tr>\n",
       "    <tr>\n",
       "      <th>1</th>\n",
       "      <td>1</td>\n",
       "      <td>2</td>\n",
       "      <td>Jakarta</td>\n",
       "      <td>High End</td>\n",
       "      <td>No</td>\n",
       "      <td>No</td>\n",
       "      <td>No</td>\n",
       "      <td>No</td>\n",
       "      <td>No</td>\n",
       "      <td>No</td>\n",
       "      <td>Pulsa</td>\n",
       "      <td>91.910</td>\n",
       "      <td>Yes</td>\n",
       "      <td>106.81667</td>\n",
       "      <td>-6.2</td>\n",
       "      <td>3511.3</td>\n",
       "      <td>New User (0-12 Months)</td>\n",
       "      <td>1</td>\n",
       "    </tr>\n",
       "    <tr>\n",
       "      <th>2</th>\n",
       "      <td>2</td>\n",
       "      <td>8</td>\n",
       "      <td>Jakarta</td>\n",
       "      <td>High End</td>\n",
       "      <td>No</td>\n",
       "      <td>No</td>\n",
       "      <td>Yes</td>\n",
       "      <td>No</td>\n",
       "      <td>Yes</td>\n",
       "      <td>Yes</td>\n",
       "      <td>Pulsa</td>\n",
       "      <td>129.545</td>\n",
       "      <td>Yes</td>\n",
       "      <td>106.81667</td>\n",
       "      <td>-6.2</td>\n",
       "      <td>6983.6</td>\n",
       "      <td>New User (0-12 Months)</td>\n",
       "      <td>1</td>\n",
       "    </tr>\n",
       "    <tr>\n",
       "      <th>3</th>\n",
       "      <td>3</td>\n",
       "      <td>28</td>\n",
       "      <td>Jakarta</td>\n",
       "      <td>High End</td>\n",
       "      <td>No</td>\n",
       "      <td>No</td>\n",
       "      <td>Yes</td>\n",
       "      <td>Yes</td>\n",
       "      <td>Yes</td>\n",
       "      <td>Yes</td>\n",
       "      <td>Pulsa</td>\n",
       "      <td>136.240</td>\n",
       "      <td>Yes</td>\n",
       "      <td>106.81667</td>\n",
       "      <td>-6.2</td>\n",
       "      <td>6503.9</td>\n",
       "      <td>Intermediate User (13-48 Months)</td>\n",
       "      <td>1</td>\n",
       "    </tr>\n",
       "    <tr>\n",
       "      <th>4</th>\n",
       "      <td>4</td>\n",
       "      <td>49</td>\n",
       "      <td>Jakarta</td>\n",
       "      <td>High End</td>\n",
       "      <td>No</td>\n",
       "      <td>Yes</td>\n",
       "      <td>Yes</td>\n",
       "      <td>No</td>\n",
       "      <td>Yes</td>\n",
       "      <td>Yes</td>\n",
       "      <td>Debit</td>\n",
       "      <td>134.810</td>\n",
       "      <td>Yes</td>\n",
       "      <td>106.81667</td>\n",
       "      <td>-6.2</td>\n",
       "      <td>6942.0</td>\n",
       "      <td>Old User (49-72 Months)</td>\n",
       "      <td>1</td>\n",
       "    </tr>\n",
       "    <tr>\n",
       "      <th>...</th>\n",
       "      <td>...</td>\n",
       "      <td>...</td>\n",
       "      <td>...</td>\n",
       "      <td>...</td>\n",
       "      <td>...</td>\n",
       "      <td>...</td>\n",
       "      <td>...</td>\n",
       "      <td>...</td>\n",
       "      <td>...</td>\n",
       "      <td>...</td>\n",
       "      <td>...</td>\n",
       "      <td>...</td>\n",
       "      <td>...</td>\n",
       "      <td>...</td>\n",
       "      <td>...</td>\n",
       "      <td>...</td>\n",
       "      <td>...</td>\n",
       "      <td>...</td>\n",
       "    </tr>\n",
       "    <tr>\n",
       "      <th>7038</th>\n",
       "      <td>7038</td>\n",
       "      <td>72</td>\n",
       "      <td>Jakarta</td>\n",
       "      <td>Low End</td>\n",
       "      <td>No internet service</td>\n",
       "      <td>No internet service</td>\n",
       "      <td>No internet service</td>\n",
       "      <td>No</td>\n",
       "      <td>No internet service</td>\n",
       "      <td>No internet service</td>\n",
       "      <td>Debit</td>\n",
       "      <td>27.495</td>\n",
       "      <td>No</td>\n",
       "      <td>106.81667</td>\n",
       "      <td>-6.2</td>\n",
       "      <td>6897.8</td>\n",
       "      <td>Old User (49-72 Months)</td>\n",
       "      <td>0</td>\n",
       "    </tr>\n",
       "    <tr>\n",
       "      <th>7039</th>\n",
       "      <td>7039</td>\n",
       "      <td>24</td>\n",
       "      <td>Jakarta</td>\n",
       "      <td>Mid End</td>\n",
       "      <td>Yes</td>\n",
       "      <td>No</td>\n",
       "      <td>Yes</td>\n",
       "      <td>Yes</td>\n",
       "      <td>Yes</td>\n",
       "      <td>Yes</td>\n",
       "      <td>Digital Wallet</td>\n",
       "      <td>110.240</td>\n",
       "      <td>No</td>\n",
       "      <td>106.81667</td>\n",
       "      <td>-6.2</td>\n",
       "      <td>2782.0</td>\n",
       "      <td>Intermediate User (13-48 Months)</td>\n",
       "      <td>1</td>\n",
       "    </tr>\n",
       "    <tr>\n",
       "      <th>7040</th>\n",
       "      <td>7040</td>\n",
       "      <td>72</td>\n",
       "      <td>Jakarta</td>\n",
       "      <td>High End</td>\n",
       "      <td>No</td>\n",
       "      <td>Yes</td>\n",
       "      <td>Yes</td>\n",
       "      <td>No</td>\n",
       "      <td>Yes</td>\n",
       "      <td>Yes</td>\n",
       "      <td>Credit</td>\n",
       "      <td>134.160</td>\n",
       "      <td>No</td>\n",
       "      <td>106.81667</td>\n",
       "      <td>-6.2</td>\n",
       "      <td>7228.0</td>\n",
       "      <td>Old User (49-72 Months)</td>\n",
       "      <td>1</td>\n",
       "    </tr>\n",
       "    <tr>\n",
       "      <th>7041</th>\n",
       "      <td>7041</td>\n",
       "      <td>11</td>\n",
       "      <td>Jakarta</td>\n",
       "      <td>Mid End</td>\n",
       "      <td>Yes</td>\n",
       "      <td>No</td>\n",
       "      <td>No</td>\n",
       "      <td>No</td>\n",
       "      <td>No</td>\n",
       "      <td>No</td>\n",
       "      <td>Pulsa</td>\n",
       "      <td>38.480</td>\n",
       "      <td>No</td>\n",
       "      <td>106.81667</td>\n",
       "      <td>-6.2</td>\n",
       "      <td>3630.9</td>\n",
       "      <td>New User (0-12 Months)</td>\n",
       "      <td>0</td>\n",
       "    </tr>\n",
       "    <tr>\n",
       "      <th>7042</th>\n",
       "      <td>7042</td>\n",
       "      <td>66</td>\n",
       "      <td>Jakarta</td>\n",
       "      <td>High End</td>\n",
       "      <td>Yes</td>\n",
       "      <td>No</td>\n",
       "      <td>Yes</td>\n",
       "      <td>Yes</td>\n",
       "      <td>Yes</td>\n",
       "      <td>Yes</td>\n",
       "      <td>Debit</td>\n",
       "      <td>137.345</td>\n",
       "      <td>No</td>\n",
       "      <td>106.81667</td>\n",
       "      <td>-6.2</td>\n",
       "      <td>6626.1</td>\n",
       "      <td>Old User (49-72 Months)</td>\n",
       "      <td>1</td>\n",
       "    </tr>\n",
       "  </tbody>\n",
       "</table>\n",
       "<p>7043 rows × 18 columns</p>\n",
       "</div>"
      ],
      "text/plain": [
       "      Customer ID  Tenure Months Location Device Class        Games Product  \\\n",
       "0               0              2  Jakarta      Mid End                  Yes   \n",
       "1               1              2  Jakarta     High End                   No   \n",
       "2               2              8  Jakarta     High End                   No   \n",
       "3               3             28  Jakarta     High End                   No   \n",
       "4               4             49  Jakarta     High End                   No   \n",
       "...           ...            ...      ...          ...                  ...   \n",
       "7038         7038             72  Jakarta      Low End  No internet service   \n",
       "7039         7039             24  Jakarta      Mid End                  Yes   \n",
       "7040         7040             72  Jakarta     High End                   No   \n",
       "7041         7041             11  Jakarta      Mid End                  Yes   \n",
       "7042         7042             66  Jakarta     High End                  Yes   \n",
       "\n",
       "            Music Product    Education Product Call Center  \\\n",
       "0                     Yes                   No          No   \n",
       "1                      No                   No          No   \n",
       "2                      No                  Yes          No   \n",
       "3                      No                  Yes         Yes   \n",
       "4                     Yes                  Yes          No   \n",
       "...                   ...                  ...         ...   \n",
       "7038  No internet service  No internet service          No   \n",
       "7039                   No                  Yes         Yes   \n",
       "7040                  Yes                  Yes          No   \n",
       "7041                   No                   No          No   \n",
       "7042                   No                  Yes         Yes   \n",
       "\n",
       "            Video Product            Use MyApp  Payment Method  \\\n",
       "0                      No                   No  Digital Wallet   \n",
       "1                      No                   No           Pulsa   \n",
       "2                     Yes                  Yes           Pulsa   \n",
       "3                     Yes                  Yes           Pulsa   \n",
       "4                     Yes                  Yes           Debit   \n",
       "...                   ...                  ...             ...   \n",
       "7038  No internet service  No internet service           Debit   \n",
       "7039                  Yes                  Yes  Digital Wallet   \n",
       "7040                  Yes                  Yes          Credit   \n",
       "7041                   No                   No           Pulsa   \n",
       "7042                  Yes                  Yes           Debit   \n",
       "\n",
       "      Monthly Purchase (Thou. IDR) Churn Label  Longitude  Latitude  \\\n",
       "0                           70.005         Yes  106.81667      -6.2   \n",
       "1                           91.910         Yes  106.81667      -6.2   \n",
       "2                          129.545         Yes  106.81667      -6.2   \n",
       "3                          136.240         Yes  106.81667      -6.2   \n",
       "4                          134.810         Yes  106.81667      -6.2   \n",
       "...                            ...         ...        ...       ...   \n",
       "7038                        27.495          No  106.81667      -6.2   \n",
       "7039                       110.240          No  106.81667      -6.2   \n",
       "7040                       134.160          No  106.81667      -6.2   \n",
       "7041                        38.480          No  106.81667      -6.2   \n",
       "7042                       137.345          No  106.81667      -6.2   \n",
       "\n",
       "      CLTV (Predicted Thou. IDR)                            Months  cluster  \n",
       "0                         4210.7            New User (0-12 Months)        0  \n",
       "1                         3511.3            New User (0-12 Months)        1  \n",
       "2                         6983.6            New User (0-12 Months)        1  \n",
       "3                         6503.9  Intermediate User (13-48 Months)        1  \n",
       "4                         6942.0           Old User (49-72 Months)        1  \n",
       "...                          ...                               ...      ...  \n",
       "7038                      6897.8           Old User (49-72 Months)        0  \n",
       "7039                      2782.0  Intermediate User (13-48 Months)        1  \n",
       "7040                      7228.0           Old User (49-72 Months)        1  \n",
       "7041                      3630.9            New User (0-12 Months)        0  \n",
       "7042                      6626.1           Old User (49-72 Months)        1  \n",
       "\n",
       "[7043 rows x 18 columns]"
      ]
     },
     "execution_count": 23,
     "metadata": {},
     "output_type": "execute_result"
    }
   ],
   "source": [
    "df_clusters"
   ]
  },
  {
   "cell_type": "code",
   "execution_count": 24,
   "id": "70c0b1d7",
   "metadata": {
    "execution": {
     "iopub.execute_input": "2023-11-11T18:37:28.618161Z",
     "iopub.status.busy": "2023-11-11T18:37:28.617865Z",
     "iopub.status.idle": "2023-11-11T18:37:28.622480Z",
     "shell.execute_reply": "2023-11-11T18:37:28.621877Z"
    },
    "papermill": {
     "duration": 0.021062,
     "end_time": "2023-11-11T18:37:28.624299",
     "exception": false,
     "start_time": "2023-11-11T18:37:28.603237",
     "status": "completed"
    },
    "tags": []
   },
   "outputs": [],
   "source": [
    "# Data viz lib\n",
    "import matplotlib.pyplot as plt\n",
    "import seaborn as sns\n",
    "%matplotlib inline\n",
    "from matplotlib.pyplot import xticks"
   ]
  },
  {
   "cell_type": "code",
   "execution_count": 25,
   "id": "4fb07af5",
   "metadata": {
    "execution": {
     "iopub.execute_input": "2023-11-11T18:37:28.654161Z",
     "iopub.status.busy": "2023-11-11T18:37:28.653836Z",
     "iopub.status.idle": "2023-11-11T18:37:28.870138Z",
     "shell.execute_reply": "2023-11-11T18:37:28.869249Z"
    },
    "papermill": {
     "duration": 0.233247,
     "end_time": "2023-11-11T18:37:28.871897",
     "exception": false,
     "start_time": "2023-11-11T18:37:28.638650",
     "status": "completed"
    },
    "tags": []
   },
   "outputs": [
    {
     "data": {
      "image/png": "[encoded data removed]",
      "text/plain": [
       "<Figure size 800x800 with 1 Axes>"
      ]
     },
     "metadata": {},
     "output_type": "display_data"
    }
   ],
   "source": [
    "plt.subplots(figsize = (8,8))\n",
    "sns.countplot(x=df_clusters['Months'],order=df_clusters['Months'].value_counts().index,hue=df_clusters['cluster'])\n",
    "plt.xlabel('Kategori Customer')\n",
    "plt.show()"
   ]
  },
  {
   "cell_type": "markdown",
   "id": "a5bbb4d3",
   "metadata": {
    "papermill": {
     "duration": 0.013223,
     "end_time": "2023-11-11T18:37:28.899079",
     "exception": false,
     "start_time": "2023-11-11T18:37:28.885856",
     "status": "completed"
    },
    "tags": []
   },
   "source": [
    "From the above chart, it is found that users with sophisticated devices are highly profitable. Meanwhile,\n",
    "users with outdated devices are less profitable. Based on the findings, the company can implement targeted\n",
    "marketing campaigns to promote services or features that align with the preferences of users with\n",
    "sophisticated devices. This may include highlighting advanced features, exclusive content, or premium\n",
    "services. Explore partnerships with device manufacturers to provide exclusive bundles or collaborations.\n",
    "This can create added value for users with sophisticated devices and attract new customers."
   ]
  },
  {
   "cell_type": "markdown",
   "id": "896517c2",
   "metadata": {
    "papermill": {
     "duration": 0.013279,
     "end_time": "2023-11-11T18:37:28.926009",
     "exception": false,
     "start_time": "2023-11-11T18:37:28.912730",
     "status": "completed"
    },
    "tags": []
   },
   "source": [
    "**Monthly Purchase (Thou. IDR)**"
   ]
  },
  {
   "cell_type": "code",
   "execution_count": 26,
   "id": "d081ae1d",
   "metadata": {
    "execution": {
     "iopub.execute_input": "2023-11-11T18:37:28.955342Z",
     "iopub.status.busy": "2023-11-11T18:37:28.955009Z",
     "iopub.status.idle": "2023-11-11T18:37:29.265071Z",
     "shell.execute_reply": "2023-11-11T18:37:29.263832Z"
    },
    "papermill": {
     "duration": 0.327335,
     "end_time": "2023-11-11T18:37:29.267198",
     "exception": false,
     "start_time": "2023-11-11T18:37:28.939863",
     "status": "completed"
    },
    "tags": []
   },
   "outputs": [
    {
     "data": {
      "text/plain": [
       "<Axes: xlabel='Monthly Purchase (Thou. IDR)', ylabel='Count'>"
      ]
     },
     "execution_count": 26,
     "metadata": {},
     "output_type": "execute_result"
    },
    {
     "data": {
      "image/png": "[encoded data removed]",
      "text/plain": [
       "<Figure size 640x480 with 1 Axes>"
      ]
     },
     "metadata": {},
     "output_type": "display_data"
    }
   ],
   "source": [
    "sns.histplot(df_clusters[\"Monthly Purchase (Thou. IDR)\"], color=\"red\", kde=True, label=\"Histogram\")"
   ]
  },
  {
   "cell_type": "code",
   "execution_count": 27,
   "id": "3dae142a",
   "metadata": {
    "execution": {
     "iopub.execute_input": "2023-11-11T18:37:29.298891Z",
     "iopub.status.busy": "2023-11-11T18:37:29.298542Z",
     "iopub.status.idle": "2023-11-11T18:37:29.586764Z",
     "shell.execute_reply": "2023-11-11T18:37:29.584879Z"
    },
    "papermill": {
     "duration": 0.306666,
     "end_time": "2023-11-11T18:37:29.588591",
     "exception": false,
     "start_time": "2023-11-11T18:37:29.281925",
     "status": "completed"
    },
    "tags": []
   },
   "outputs": [
    {
     "data": {
      "text/plain": [
       "<Axes: xlabel='Monthly Purchase (Thou. IDR)', ylabel='Count'>"
      ]
     },
     "execution_count": 27,
     "metadata": {},
     "output_type": "execute_result"
    },
    {
     "data": {
      "image/png": "[encoded data removed]",
      "text/plain": [
       "<Figure size 640x480 with 1 Axes>"
      ]
     },
     "metadata": {},
     "output_type": "display_data"
    }
   ],
   "source": [
    "sns.histplot(cluster_0[\"Monthly Purchase (Thou. IDR)\"], color=\"blue\", kde=True, label=\"Histogram\")"
   ]
  },
  {
   "cell_type": "code",
   "execution_count": 28,
   "id": "0d9d6d63",
   "metadata": {
    "execution": {
     "iopub.execute_input": "2023-11-11T18:37:29.619408Z",
     "iopub.status.busy": "2023-11-11T18:37:29.619081Z",
     "iopub.status.idle": "2023-11-11T18:37:29.881837Z",
     "shell.execute_reply": "2023-11-11T18:37:29.880940Z"
    },
    "papermill": {
     "duration": 0.280212,
     "end_time": "2023-11-11T18:37:29.883524",
     "exception": false,
     "start_time": "2023-11-11T18:37:29.603312",
     "status": "completed"
    },
    "tags": []
   },
   "outputs": [
    {
     "data": {
      "text/plain": [
       "<Axes: xlabel='Monthly Purchase (Thou. IDR)', ylabel='Count'>"
      ]
     },
     "execution_count": 28,
     "metadata": {},
     "output_type": "execute_result"
    },
    {
     "data": {
      "image/png": "[encoded data removed]",
      "text/plain": [
       "<Figure size 640x480 with 1 Axes>"
      ]
     },
     "metadata": {},
     "output_type": "display_data"
    }
   ],
   "source": [
    "sns.histplot(cluster_1[\"Monthly Purchase (Thou. IDR)\"], color=\"orange\", kde=True, label=\"Histogram\")"
   ]
  },
  {
   "cell_type": "markdown",
   "id": "44fbf984",
   "metadata": {
    "papermill": {
     "duration": 0.014205,
     "end_time": "2023-11-11T18:37:29.912417",
     "exception": false,
     "start_time": "2023-11-11T18:37:29.898212",
     "status": "completed"
    },
    "tags": []
   },
   "source": [
    "From the chart above, we can conclude that users with the highest monthly purchases belong to Cluster 1.\n",
    "Based on the analysis indicating that users with the largest monthly purchases belong to Cluster 1, the\n",
    "company can recognize and treat users in Cluster 1 as VIP customers. Implement special recognition\n",
    "programs, exclusive benefits, or loyalty rewards to show appreciation for their higher spending. Then, design\n",
    "targeted promotions and special offers for Cluster 0 users to incentivize increased spending. This could\n",
    "include limited-time discounts, bundled services, or loyalty rewards for consistent monthly subscriptions"
   ]
  },
  {
   "cell_type": "markdown",
   "id": "a993ff12",
   "metadata": {
    "papermill": {
     "duration": 0.014125,
     "end_time": "2023-11-11T18:37:29.940874",
     "exception": false,
     "start_time": "2023-11-11T18:37:29.926749",
     "status": "completed"
    },
    "tags": []
   },
   "source": [
    "**Churn Label**"
   ]
  },
  {
   "cell_type": "code",
   "execution_count": 29,
   "id": "81370949",
   "metadata": {
    "execution": {
     "iopub.execute_input": "2023-11-11T18:37:29.973525Z",
     "iopub.status.busy": "2023-11-11T18:37:29.972589Z",
     "iopub.status.idle": "2023-11-11T18:37:30.113150Z",
     "shell.execute_reply": "2023-11-11T18:37:30.112116Z"
    },
    "papermill": {
     "duration": 0.159651,
     "end_time": "2023-11-11T18:37:30.115329",
     "exception": false,
     "start_time": "2023-11-11T18:37:29.955678",
     "status": "completed"
    },
    "tags": []
   },
   "outputs": [
    {
     "data": {
      "image/png": "[encoded data removed]",
      "text/plain": [
       "<Figure size 600x600 with 1 Axes>"
      ]
     },
     "metadata": {},
     "output_type": "display_data"
    }
   ],
   "source": [
    "plt.subplots(figsize = (6,6))\n",
    "sns.countplot(x=df_clusters['Churn Label'],order=df_clusters['Churn Label'].value_counts().index,hue=df_clusters['cluster'])\n",
    "plt.show()"
   ]
  },
  {
   "cell_type": "markdown",
   "id": "5e5382c7",
   "metadata": {
    "papermill": {
     "duration": 0.01564,
     "end_time": "2023-11-11T18:37:30.147101",
     "exception": false,
     "start_time": "2023-11-11T18:37:30.131461",
     "status": "completed"
    },
    "tags": []
   },
   "source": [
    "From the above chart, it is found that:\n",
    "- Cluster 1 (profitable users): more users decide to continue their subscriptions.\n",
    "- Cluster 0 (less profitable users): more users decide to continue their subscriptions.\n",
    "\n",
    "So, company can focus on providing high-quality products or services, excellent customer service, and userfriendly platforms to ensure that customers remain satisfied and continue their subscriptions. Then, provide\n",
    "incentives for customers to renew their subscriptions or upgrade to a higher tier, such as limited-time\n",
    "promotions or discounts for existing subscribers"
   ]
  },
  {
   "cell_type": "markdown",
   "id": "ba6d1a00",
   "metadata": {
    "papermill": {
     "duration": 0.015557,
     "end_time": "2023-11-11T18:37:30.179286",
     "exception": false,
     "start_time": "2023-11-11T18:37:30.163729",
     "status": "completed"
    },
    "tags": []
   },
   "source": [
    "**Device Class**"
   ]
  },
  {
   "cell_type": "code",
   "execution_count": 30,
   "id": "6d411387",
   "metadata": {
    "execution": {
     "iopub.execute_input": "2023-11-11T18:37:30.212381Z",
     "iopub.status.busy": "2023-11-11T18:37:30.212056Z",
     "iopub.status.idle": "2023-11-11T18:37:30.369163Z",
     "shell.execute_reply": "2023-11-11T18:37:30.368069Z"
    },
    "papermill": {
     "duration": 0.175967,
     "end_time": "2023-11-11T18:37:30.371211",
     "exception": false,
     "start_time": "2023-11-11T18:37:30.195244",
     "status": "completed"
    },
    "tags": []
   },
   "outputs": [
    {
     "data": {
      "image/png": "[encoded data removed]",
      "text/plain": [
       "<Figure size 600x600 with 1 Axes>"
      ]
     },
     "metadata": {},
     "output_type": "display_data"
    }
   ],
   "source": [
    "plt.subplots(figsize = (6,6))\n",
    "sns.countplot(x=df_clusters['Device Class'],order=df_clusters['Device Class'].value_counts().index,hue=df_clusters['cluster'])\n",
    "plt.show()"
   ]
  },
  {
   "cell_type": "markdown",
   "id": "3295495c",
   "metadata": {
    "papermill": {
     "duration": 0.014937,
     "end_time": "2023-11-11T18:37:30.401843",
     "exception": false,
     "start_time": "2023-11-11T18:37:30.386906",
     "status": "completed"
    },
    "tags": []
   },
   "source": [
    "From the above chart, it is found that users with sophisticated devices are highly profitable. Meanwhile,\n",
    "users with outdated devices are less profitable. Based on the findings, the company can implement targeted\n",
    "marketing campaigns to promote services or features that align with the preferences of users with\n",
    "sophisticated devices. This may include highlighting advanced features, exclusive content, or premium\n",
    "services. Explore partnerships with device manufacturers to provide exclusive bundles or collaborations.\n",
    "This can create added value for users with sophisticated devices and attract new customers."
   ]
  },
  {
   "cell_type": "markdown",
   "id": "88bf82c0",
   "metadata": {
    "papermill": {
     "duration": 0.014786,
     "end_time": "2023-11-11T18:37:30.431647",
     "exception": false,
     "start_time": "2023-11-11T18:37:30.416861",
     "status": "completed"
    },
    "tags": []
   },
   "source": [
    "**Games Product**"
   ]
  },
  {
   "cell_type": "code",
   "execution_count": 31,
   "id": "76697f5b",
   "metadata": {
    "execution": {
     "iopub.execute_input": "2023-11-11T18:37:30.464428Z",
     "iopub.status.busy": "2023-11-11T18:37:30.463514Z",
     "iopub.status.idle": "2023-11-11T18:37:30.611008Z",
     "shell.execute_reply": "2023-11-11T18:37:30.609848Z"
    },
    "papermill": {
     "duration": 0.166562,
     "end_time": "2023-11-11T18:37:30.613577",
     "exception": false,
     "start_time": "2023-11-11T18:37:30.447015",
     "status": "completed"
    },
    "tags": []
   },
   "outputs": [
    {
     "data": {
      "image/png": "[encoded data removed]",
      "text/plain": [
       "<Figure size 600x600 with 1 Axes>"
      ]
     },
     "metadata": {},
     "output_type": "display_data"
    }
   ],
   "source": [
    "plt.subplots(figsize = (6,6))\n",
    "sns.countplot(x=df_clusters['cluster'],order=df_clusters['cluster'].value_counts().index,hue=df_clusters['Games Product'])\n",
    "plt.show()"
   ]
  },
  {
   "cell_type": "markdown",
   "id": "ecbc3906",
   "metadata": {
    "papermill": {
     "duration": 0.015615,
     "end_time": "2023-11-11T18:37:30.645390",
     "exception": false,
     "start_time": "2023-11-11T18:37:30.629775",
     "status": "completed"
    },
    "tags": []
   },
   "source": [
    "**Music Product**"
   ]
  },
  {
   "cell_type": "code",
   "execution_count": 32,
   "id": "d9d1a3cb",
   "metadata": {
    "execution": {
     "iopub.execute_input": "2023-11-11T18:37:30.678771Z",
     "iopub.status.busy": "2023-11-11T18:37:30.677306Z",
     "iopub.status.idle": "2023-11-11T18:37:30.829759Z",
     "shell.execute_reply": "2023-11-11T18:37:30.828319Z"
    },
    "papermill": {
     "duration": 0.171135,
     "end_time": "2023-11-11T18:37:30.831992",
     "exception": false,
     "start_time": "2023-11-11T18:37:30.660857",
     "status": "completed"
    },
    "tags": []
   },
   "outputs": [
    {
     "data": {
      "image/png": "[encoded data removed]",
      "text/plain": [
       "<Figure size 600x600 with 1 Axes>"
      ]
     },
     "metadata": {},
     "output_type": "display_data"
    }
   ],
   "source": [
    "plt.subplots(figsize = (6,6))\n",
    "sns.countplot(x=df_clusters['cluster'],order=df_clusters['cluster'].value_counts().index,hue=df_clusters['Music Product'])\n",
    "plt.show()"
   ]
  },
  {
   "cell_type": "markdown",
   "id": "5a75b9f2",
   "metadata": {
    "papermill": {
     "duration": 0.016106,
     "end_time": "2023-11-11T18:37:30.864794",
     "exception": false,
     "start_time": "2023-11-11T18:37:30.848688",
     "status": "completed"
    },
    "tags": []
   },
   "source": [
    "**Music Product**"
   ]
  },
  {
   "cell_type": "code",
   "execution_count": 33,
   "id": "c7c5ab9c",
   "metadata": {
    "execution": {
     "iopub.execute_input": "2023-11-11T18:37:30.899094Z",
     "iopub.status.busy": "2023-11-11T18:37:30.898781Z",
     "iopub.status.idle": "2023-11-11T18:37:31.059529Z",
     "shell.execute_reply": "2023-11-11T18:37:31.058500Z"
    },
    "papermill": {
     "duration": 0.180177,
     "end_time": "2023-11-11T18:37:31.061487",
     "exception": false,
     "start_time": "2023-11-11T18:37:30.881310",
     "status": "completed"
    },
    "tags": []
   },
   "outputs": [
    {
     "data": {
      "image/png": "[encoded data removed]",
      "text/plain": [
       "<Figure size 600x600 with 1 Axes>"
      ]
     },
     "metadata": {},
     "output_type": "display_data"
    }
   ],
   "source": [
    "plt.subplots(figsize = (6,6))\n",
    "sns.countplot(x=df_clusters['cluster'],order=df_clusters['cluster'].value_counts().index,hue=df_clusters['Education Product'])\n",
    "plt.show()"
   ]
  },
  {
   "cell_type": "markdown",
   "id": "f4bf31a8",
   "metadata": {
    "papermill": {
     "duration": 0.017954,
     "end_time": "2023-11-11T18:37:31.096260",
     "exception": false,
     "start_time": "2023-11-11T18:37:31.078306",
     "status": "completed"
    },
    "tags": []
   },
   "source": [
    "**Video Product**"
   ]
  },
  {
   "cell_type": "code",
   "execution_count": 34,
   "id": "1482d9e6",
   "metadata": {
    "execution": {
     "iopub.execute_input": "2023-11-11T18:37:31.131331Z",
     "iopub.status.busy": "2023-11-11T18:37:31.131023Z",
     "iopub.status.idle": "2023-11-11T18:37:31.279971Z",
     "shell.execute_reply": "2023-11-11T18:37:31.279030Z"
    },
    "papermill": {
     "duration": 0.168758,
     "end_time": "2023-11-11T18:37:31.281792",
     "exception": false,
     "start_time": "2023-11-11T18:37:31.113034",
     "status": "completed"
    },
    "tags": []
   },
   "outputs": [
    {
     "data": {
      "image/png": "[encoded data removed]",
      "text/plain": [
       "<Figure size 600x600 with 1 Axes>"
      ]
     },
     "metadata": {},
     "output_type": "display_data"
    }
   ],
   "source": [
    "plt.subplots(figsize = (6,6))\n",
    "sns.countplot(x=df_clusters['cluster'],order=df_clusters['cluster'].value_counts().index,hue=df_clusters['Video Product'])\n",
    "plt.show()"
   ]
  },
  {
   "cell_type": "markdown",
   "id": "c0cde8c4",
   "metadata": {
    "papermill": {
     "duration": 0.016851,
     "end_time": "2023-11-11T18:37:31.315667",
     "exception": false,
     "start_time": "2023-11-11T18:37:31.298816",
     "status": "completed"
    },
    "tags": []
   },
   "source": [
    "Optional = (Use MyApp,Payment Method,Call Center)"
   ]
  },
  {
   "cell_type": "code",
   "execution_count": 35,
   "id": "da20195c",
   "metadata": {
    "execution": {
     "iopub.execute_input": "2023-11-11T18:37:31.350744Z",
     "iopub.status.busy": "2023-11-11T18:37:31.350428Z",
     "iopub.status.idle": "2023-11-11T18:37:31.362441Z",
     "shell.execute_reply": "2023-11-11T18:37:31.361496Z"
    },
    "papermill": {
     "duration": 0.032023,
     "end_time": "2023-11-11T18:37:31.364596",
     "exception": false,
     "start_time": "2023-11-11T18:37:31.332573",
     "status": "completed"
    },
    "tags": []
   },
   "outputs": [],
   "source": [
    "product1 = ['Games Product','cluster']\n",
    "product2 = ['Music Product','cluster']\n",
    "product3 = ['Education Product','cluster']\n",
    "product4 = ['Video Product','cluster']\n",
    "data_games_1 = cluster_1[product1]\n",
    "data_music_1 = cluster_1[product2]\n",
    "data_edu_1 = cluster_1[product3]\n",
    "data_video_1 = cluster_1[product4]\n",
    "data_games_0 = cluster_0[product1]\n",
    "data_music_0 = cluster_0[product2]\n",
    "data_edu_0 = cluster_0[product3]\n",
    "data_video_0 = cluster_0[product4]\n"
   ]
  },
  {
   "cell_type": "code",
   "execution_count": 36,
   "id": "95cadfea",
   "metadata": {
    "execution": {
     "iopub.execute_input": "2023-11-11T18:37:31.401694Z",
     "iopub.status.busy": "2023-11-11T18:37:31.401340Z",
     "iopub.status.idle": "2023-11-11T18:37:31.411089Z",
     "shell.execute_reply": "2023-11-11T18:37:31.410205Z"
    },
    "papermill": {
     "duration": 0.031184,
     "end_time": "2023-11-11T18:37:31.413295",
     "exception": false,
     "start_time": "2023-11-11T18:37:31.382111",
     "status": "completed"
    },
    "tags": []
   },
   "outputs": [],
   "source": [
    "data_games_1_yes = data_games_1[data_games_1['Games Product'] == 'Yes']\n",
    "data_music_1_yes = data_music_1[data_music_1['Music Product'] == 'Yes']\n",
    "data_edu_1_yes = data_edu_1[data_edu_1['Education Product'] == 'Yes']\n",
    "data_video_1_yes = data_video_1[data_video_1['Video Product'] == 'Yes']"
   ]
  },
  {
   "cell_type": "code",
   "execution_count": 37,
   "id": "30662345",
   "metadata": {
    "execution": {
     "iopub.execute_input": "2023-11-11T18:37:31.448288Z",
     "iopub.status.busy": "2023-11-11T18:37:31.447969Z",
     "iopub.status.idle": "2023-11-11T18:37:31.457123Z",
     "shell.execute_reply": "2023-11-11T18:37:31.456320Z"
    },
    "papermill": {
     "duration": 0.028677,
     "end_time": "2023-11-11T18:37:31.458975",
     "exception": false,
     "start_time": "2023-11-11T18:37:31.430298",
     "status": "completed"
    },
    "tags": []
   },
   "outputs": [],
   "source": [
    "data_games_0_yes = data_games_0[data_games_0['Games Product'] == 'Yes']\n",
    "data_music_0_yes = data_music_0[data_music_0['Music Product'] == 'Yes']\n",
    "data_edu_0_yes = data_edu_0[data_edu_0['Education Product'] == 'Yes']\n",
    "data_video_0_yes = data_video_0[data_video_0['Video Product'] == 'Yes']"
   ]
  },
  {
   "cell_type": "code",
   "execution_count": 38,
   "id": "feedfc22",
   "metadata": {
    "execution": {
     "iopub.execute_input": "2023-11-11T18:37:31.493325Z",
     "iopub.status.busy": "2023-11-11T18:37:31.492986Z",
     "iopub.status.idle": "2023-11-11T18:37:31.501464Z",
     "shell.execute_reply": "2023-11-11T18:37:31.499986Z"
    },
    "papermill": {
     "duration": 0.02814,
     "end_time": "2023-11-11T18:37:31.503761",
     "exception": false,
     "start_time": "2023-11-11T18:37:31.475621",
     "status": "completed"
    },
    "tags": []
   },
   "outputs": [
    {
     "data": {
      "text/plain": [
       "Games Product\n",
       "Yes    1530\n",
       "Name: count, dtype: int64"
      ]
     },
     "execution_count": 38,
     "metadata": {},
     "output_type": "execute_result"
    }
   ],
   "source": [
    "data_games_1_yes['Games Product'].value_counts()"
   ]
  },
  {
   "cell_type": "code",
   "execution_count": 39,
   "id": "3d4eeea6",
   "metadata": {
    "execution": {
     "iopub.execute_input": "2023-11-11T18:37:31.540836Z",
     "iopub.status.busy": "2023-11-11T18:37:31.540531Z",
     "iopub.status.idle": "2023-11-11T18:37:31.549813Z",
     "shell.execute_reply": "2023-11-11T18:37:31.548448Z"
    },
    "papermill": {
     "duration": 0.030247,
     "end_time": "2023-11-11T18:37:31.552214",
     "exception": false,
     "start_time": "2023-11-11T18:37:31.521967",
     "status": "completed"
    },
    "tags": []
   },
   "outputs": [
    {
     "data": {
      "text/plain": [
       "Music Product\n",
       "Yes    1979\n",
       "Name: count, dtype: int64"
      ]
     },
     "execution_count": 39,
     "metadata": {},
     "output_type": "execute_result"
    }
   ],
   "source": [
    "data_music_1_yes['Music Product'].value_counts()"
   ]
  },
  {
   "cell_type": "code",
   "execution_count": 40,
   "id": "a6b4fca2",
   "metadata": {
    "execution": {
     "iopub.execute_input": "2023-11-11T18:37:31.588332Z",
     "iopub.status.busy": "2023-11-11T18:37:31.587986Z",
     "iopub.status.idle": "2023-11-11T18:37:31.595677Z",
     "shell.execute_reply": "2023-11-11T18:37:31.594521Z"
    },
    "papermill": {
     "duration": 0.028478,
     "end_time": "2023-11-11T18:37:31.597999",
     "exception": false,
     "start_time": "2023-11-11T18:37:31.569521",
     "status": "completed"
    },
    "tags": []
   },
   "outputs": [
    {
     "data": {
      "text/plain": [
       "Education Product\n",
       "Yes    2039\n",
       "Name: count, dtype: int64"
      ]
     },
     "execution_count": 40,
     "metadata": {},
     "output_type": "execute_result"
    }
   ],
   "source": [
    "data_edu_1_yes['Education Product'].value_counts()"
   ]
  },
  {
   "cell_type": "code",
   "execution_count": 41,
   "id": "baa718cc",
   "metadata": {
    "execution": {
     "iopub.execute_input": "2023-11-11T18:37:31.634677Z",
     "iopub.status.busy": "2023-11-11T18:37:31.633802Z",
     "iopub.status.idle": "2023-11-11T18:37:31.640427Z",
     "shell.execute_reply": "2023-11-11T18:37:31.639829Z"
    },
    "papermill": {
     "duration": 0.02616,
     "end_time": "2023-11-11T18:37:31.641942",
     "exception": false,
     "start_time": "2023-11-11T18:37:31.615782",
     "status": "completed"
    },
    "tags": []
   },
   "outputs": [
    {
     "data": {
      "text/plain": [
       "Video Product\n",
       "Yes    2413\n",
       "Name: count, dtype: int64"
      ]
     },
     "execution_count": 41,
     "metadata": {},
     "output_type": "execute_result"
    }
   ],
   "source": [
    "data_video_1_yes['Video Product'].value_counts()"
   ]
  },
  {
   "cell_type": "code",
   "execution_count": 42,
   "id": "1bd43492",
   "metadata": {
    "execution": {
     "iopub.execute_input": "2023-11-11T18:37:31.678716Z",
     "iopub.status.busy": "2023-11-11T18:37:31.677897Z",
     "iopub.status.idle": "2023-11-11T18:37:31.684553Z",
     "shell.execute_reply": "2023-11-11T18:37:31.683468Z"
    },
    "papermill": {
     "duration": 0.027105,
     "end_time": "2023-11-11T18:37:31.686261",
     "exception": false,
     "start_time": "2023-11-11T18:37:31.659156",
     "status": "completed"
    },
    "tags": []
   },
   "outputs": [
    {
     "data": {
      "text/plain": [
       "Games Product\n",
       "Yes    489\n",
       "Name: count, dtype: int64"
      ]
     },
     "execution_count": 42,
     "metadata": {},
     "output_type": "execute_result"
    }
   ],
   "source": [
    "data_games_0_yes['Games Product'].value_counts()"
   ]
  },
  {
   "cell_type": "code",
   "execution_count": 43,
   "id": "3f1e02aa",
   "metadata": {
    "execution": {
     "iopub.execute_input": "2023-11-11T18:37:31.722666Z",
     "iopub.status.busy": "2023-11-11T18:37:31.722343Z",
     "iopub.status.idle": "2023-11-11T18:37:31.729434Z",
     "shell.execute_reply": "2023-11-11T18:37:31.728729Z"
    },
    "papermill": {
     "duration": 0.027218,
     "end_time": "2023-11-11T18:37:31.730926",
     "exception": false,
     "start_time": "2023-11-11T18:37:31.703708",
     "status": "completed"
    },
    "tags": []
   },
   "outputs": [
    {
     "data": {
      "text/plain": [
       "Music Product\n",
       "Yes    450\n",
       "Name: count, dtype: int64"
      ]
     },
     "execution_count": 43,
     "metadata": {},
     "output_type": "execute_result"
    }
   ],
   "source": [
    "data_music_0_yes['Music Product'].value_counts()"
   ]
  },
  {
   "cell_type": "code",
   "execution_count": 44,
   "id": "c01bf284",
   "metadata": {
    "execution": {
     "iopub.execute_input": "2023-11-11T18:37:31.767595Z",
     "iopub.status.busy": "2023-11-11T18:37:31.766592Z",
     "iopub.status.idle": "2023-11-11T18:37:31.774296Z",
     "shell.execute_reply": "2023-11-11T18:37:31.773427Z"
    },
    "papermill": {
     "duration": 0.028064,
     "end_time": "2023-11-11T18:37:31.776136",
     "exception": false,
     "start_time": "2023-11-11T18:37:31.748072",
     "status": "completed"
    },
    "tags": []
   },
   "outputs": [
    {
     "data": {
      "text/plain": [
       "Education Product\n",
       "Yes    383\n",
       "Name: count, dtype: int64"
      ]
     },
     "execution_count": 44,
     "metadata": {},
     "output_type": "execute_result"
    }
   ],
   "source": [
    "data_edu_0_yes['Education Product'].value_counts()"
   ]
  },
  {
   "cell_type": "code",
   "execution_count": 45,
   "id": "4f0efeb4",
   "metadata": {
    "execution": {
     "iopub.execute_input": "2023-11-11T18:37:31.813698Z",
     "iopub.status.busy": "2023-11-11T18:37:31.813108Z",
     "iopub.status.idle": "2023-11-11T18:37:31.819981Z",
     "shell.execute_reply": "2023-11-11T18:37:31.819287Z"
    },
    "papermill": {
     "duration": 0.027547,
     "end_time": "2023-11-11T18:37:31.821650",
     "exception": false,
     "start_time": "2023-11-11T18:37:31.794103",
     "status": "completed"
    },
    "tags": []
   },
   "outputs": [
    {
     "data": {
      "text/plain": [
       "Video Product\n",
       "Yes    294\n",
       "Name: count, dtype: int64"
      ]
     },
     "execution_count": 45,
     "metadata": {},
     "output_type": "execute_result"
    }
   ],
   "source": [
    "data_video_0_yes['Video Product'].value_counts()"
   ]
  },
  {
   "cell_type": "code",
   "execution_count": 46,
   "id": "32f84fad",
   "metadata": {
    "execution": {
     "iopub.execute_input": "2023-11-11T18:37:31.858645Z",
     "iopub.status.busy": "2023-11-11T18:37:31.858138Z",
     "iopub.status.idle": "2023-11-11T18:37:32.029647Z",
     "shell.execute_reply": "2023-11-11T18:37:32.028615Z"
    },
    "papermill": {
     "duration": 0.192126,
     "end_time": "2023-11-11T18:37:32.031411",
     "exception": false,
     "start_time": "2023-11-11T18:37:31.839285",
     "status": "completed"
    },
    "tags": []
   },
   "outputs": [
    {
     "data": {
      "image/png": "[encoded data removed]",
      "text/plain": [
       "<Figure size 640x480 with 1 Axes>"
      ]
     },
     "metadata": {},
     "output_type": "display_data"
    }
   ],
   "source": [
    "import matplotlib.pyplot as plt\n",
    "\n",
    "\n",
    "cluster1 = [1530, 1979, 2039, 2413 ]\n",
    "cluster0 = [489, 450, 383, 294]\n",
    "\n",
    "\n",
    "combined_data = [cluster1, cluster0]\n",
    "\n",
    "\n",
    "labels = ['Games', 'Music', 'Education', 'Video']\n",
    "\n",
    "\n",
    "fig, ax = plt.subplots()\n",
    "width = 0.2\n",
    "for i, data in enumerate(combined_data):\n",
    "    x = [j + i * width for j in range(len(data))]\n",
    "    ax.bar(x, data, width=width, label=f'Data {i+1}')\n",
    "\n",
    "\n",
    "ax.set_xlabel('Kategori')\n",
    "ax.set_ylabel('Nilai')\n",
    "ax.set_title('Grafik Batang Gabungan')\n",
    "\n",
    "\n",
    "ax.set_xticks([j + width for j in range(len(data))])\n",
    "ax.set_xticklabels(labels)\n",
    "\n",
    "\n",
    "legenda = ['Profitable','Non Profitable']\n",
    "ax.legend(legenda)\n",
    "\n",
    "\n",
    "plt.show()"
   ]
  },
  {
   "cell_type": "markdown",
   "id": "436f52b5",
   "metadata": {
    "papermill": {
     "duration": 0.017131,
     "end_time": "2023-11-11T18:37:32.066442",
     "exception": false,
     "start_time": "2023-11-11T18:37:32.049311",
     "status": "completed"
    },
    "tags": []
   },
   "source": [
    "From the chart above, the most profitable users are those who use video services. Conversely, the least\n",
    "profitable users are those who use game services. Based on the analysis, the company can focus on\n",
    "maximizing revenue from video services by introducing premium plans, exclusive content, or personalized\n",
    "recommendations to enhance user engagement and satisfaction. Evaluate and optimize the game service\n",
    "offering to increase profitability. This may involve introducing new features, collaborating with popular game\n",
    "developers, or implementing targeted promotions to attract more users. Implement cross-promotions\n",
    "between video and game services to encourage users to explore and subscribe to both. Bundling or offering\n",
    "discounts for combined subscriptions can attract a broader audience and increase overall revenue."
   ]
  },
  {
   "cell_type": "code",
   "execution_count": 47,
   "id": "72e508b7",
   "metadata": {
    "execution": {
     "iopub.execute_input": "2023-11-11T18:37:32.103647Z",
     "iopub.status.busy": "2023-11-11T18:37:32.102762Z",
     "iopub.status.idle": "2023-11-11T18:37:32.147011Z",
     "shell.execute_reply": "2023-11-11T18:37:32.146105Z"
    },
    "papermill": {
     "duration": 0.065632,
     "end_time": "2023-11-11T18:37:32.149468",
     "exception": false,
     "start_time": "2023-11-11T18:37:32.083836",
     "status": "completed"
    },
    "tags": []
   },
   "outputs": [],
   "source": [
    "# For save as CSV file\n",
    "df_clusters.to_csv('/kaggle/working/iniclusterrr.csv',sep=',', index=False)"
   ]
  }
 ],
 "metadata": {
  "kernelspec": {
   "display_name": "Python 3",
   "language": "python",
   "name": "python3"
  },
  "language_info": {
   "codemirror_mode": {
    "name": "ipython",
    "version": 3
   },
   "file_extension": ".py",
   "mimetype": "text/x-python",
   "name": "python",
   "nbconvert_exporter": "python",
   "pygments_lexer": "ipython3",
   "version": "3.10.12"
  },
  "papermill": {
   "default_parameters": {},
   "duration": 46.255756,
   "end_time": "2023-11-11T18:37:32.687561",
   "environment_variables": {},
   "exception": null,
   "input_path": "__notebook__.ipynb",
   "output_path": "__notebook__.ipynb",
   "parameters": {},
   "start_time": "2023-11-11T18:36:46.431805",
   "version": "2.4.0"
  }
 },
 "nbformat": 4,
 "nbformat_minor": 5
}
